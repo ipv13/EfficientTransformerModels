{
  "cells": [
    {
      "cell_type": "markdown",
      "source": [
        "## Importing data"
      ],
      "metadata": {
        "id": "INeXW07O6BfB"
      }
    },
    {
      "cell_type": "code",
      "source": [
        "# This code installs the yfinance library, which allows you to access financial data from Yahoo Finance\n",
        "!pip install yfinance"
      ],
      "metadata": {
        "colab": {
          "base_uri": "https://localhost:8080/"
        },
        "id": "H0qB0st0cBuC",
        "outputId": "bd65cf79-08e9-4eb4-a650-86bab037d24b"
      },
      "execution_count": 1,
      "outputs": [
        {
          "output_type": "stream",
          "name": "stdout",
          "text": [
            "Looking in indexes: https://pypi.org/simple, https://us-python.pkg.dev/colab-wheels/public/simple/\n",
            "Collecting yfinance\n",
            "  Downloading yfinance-0.2.12-py2.py3-none-any.whl (59 kB)\n",
            "\u001b[2K     \u001b[90m━━━━━━━━━━━━━━━━━━━━━━━━━━━━━━━━━━━━━━━━\u001b[0m \u001b[32m59.2/59.2 KB\u001b[0m \u001b[31m3.1 MB/s\u001b[0m eta \u001b[36m0:00:00\u001b[0m\n",
            "\u001b[?25hRequirement already satisfied: appdirs>=1.4.4 in /usr/local/lib/python3.8/dist-packages (from yfinance) (1.4.4)\n",
            "Collecting beautifulsoup4>=4.11.1\n",
            "  Downloading beautifulsoup4-4.11.2-py3-none-any.whl (129 kB)\n",
            "\u001b[2K     \u001b[90m━━━━━━━━━━━━━━━━━━━━━━━━━━━━━━━━━━━━━━━\u001b[0m \u001b[32m129.4/129.4 KB\u001b[0m \u001b[31m9.1 MB/s\u001b[0m eta \u001b[36m0:00:00\u001b[0m\n",
            "\u001b[?25hRequirement already satisfied: lxml>=4.9.1 in /usr/local/lib/python3.8/dist-packages (from yfinance) (4.9.2)\n",
            "Collecting cryptography>=3.3.2\n",
            "  Downloading cryptography-39.0.1-cp36-abi3-manylinux_2_28_x86_64.whl (4.2 MB)\n",
            "\u001b[2K     \u001b[90m━━━━━━━━━━━━━━━━━━━━━━━━━━━━━━━━━━━━━━━━\u001b[0m \u001b[32m4.2/4.2 MB\u001b[0m \u001b[31m40.4 MB/s\u001b[0m eta \u001b[36m0:00:00\u001b[0m\n",
            "\u001b[?25hRequirement already satisfied: multitasking>=0.0.7 in /usr/local/lib/python3.8/dist-packages (from yfinance) (0.0.11)\n",
            "Requirement already satisfied: pytz>=2022.5 in /usr/local/lib/python3.8/dist-packages (from yfinance) (2022.7.1)\n",
            "Collecting requests>=2.26\n",
            "  Downloading requests-2.28.2-py3-none-any.whl (62 kB)\n",
            "\u001b[2K     \u001b[90m━━━━━━━━━━━━━━━━━━━━━━━━━━━━━━━━━━━━━━━━\u001b[0m \u001b[32m62.8/62.8 KB\u001b[0m \u001b[31m4.8 MB/s\u001b[0m eta \u001b[36m0:00:00\u001b[0m\n",
            "\u001b[?25hCollecting frozendict>=2.3.4\n",
            "  Downloading frozendict-2.3.5-cp38-cp38-manylinux_2_17_x86_64.manylinux2014_x86_64.whl (111 kB)\n",
            "\u001b[2K     \u001b[90m━━━━━━━━━━━━━━━━━━━━━━━━━━━━━━━━━━━━━━━\u001b[0m \u001b[32m111.2/111.2 KB\u001b[0m \u001b[31m8.9 MB/s\u001b[0m eta \u001b[36m0:00:00\u001b[0m\n",
            "\u001b[?25hCollecting html5lib>=1.1\n",
            "  Downloading html5lib-1.1-py2.py3-none-any.whl (112 kB)\n",
            "\u001b[2K     \u001b[90m━━━━━━━━━━━━━━━━━━━━━━━━━━━━━━━━━━━━━━━\u001b[0m \u001b[32m112.2/112.2 KB\u001b[0m \u001b[31m9.8 MB/s\u001b[0m eta \u001b[36m0:00:00\u001b[0m\n",
            "\u001b[?25hRequirement already satisfied: pandas>=1.3.0 in /usr/local/lib/python3.8/dist-packages (from yfinance) (1.3.5)\n",
            "Requirement already satisfied: numpy>=1.16.5 in /usr/local/lib/python3.8/dist-packages (from yfinance) (1.21.6)\n",
            "Collecting soupsieve>1.2\n",
            "  Downloading soupsieve-2.4-py3-none-any.whl (37 kB)\n",
            "Requirement already satisfied: cffi>=1.12 in /usr/local/lib/python3.8/dist-packages (from cryptography>=3.3.2->yfinance) (1.15.1)\n",
            "Requirement already satisfied: webencodings in /usr/local/lib/python3.8/dist-packages (from html5lib>=1.1->yfinance) (0.5.1)\n",
            "Requirement already satisfied: six>=1.9 in /usr/local/lib/python3.8/dist-packages (from html5lib>=1.1->yfinance) (1.15.0)\n",
            "Requirement already satisfied: python-dateutil>=2.7.3 in /usr/local/lib/python3.8/dist-packages (from pandas>=1.3.0->yfinance) (2.8.2)\n",
            "Requirement already satisfied: idna<4,>=2.5 in /usr/local/lib/python3.8/dist-packages (from requests>=2.26->yfinance) (2.10)\n",
            "Requirement already satisfied: urllib3<1.27,>=1.21.1 in /usr/local/lib/python3.8/dist-packages (from requests>=2.26->yfinance) (1.24.3)\n",
            "Requirement already satisfied: charset-normalizer<4,>=2 in /usr/local/lib/python3.8/dist-packages (from requests>=2.26->yfinance) (3.0.1)\n",
            "Requirement already satisfied: certifi>=2017.4.17 in /usr/local/lib/python3.8/dist-packages (from requests>=2.26->yfinance) (2022.12.7)\n",
            "Requirement already satisfied: pycparser in /usr/local/lib/python3.8/dist-packages (from cffi>=1.12->cryptography>=3.3.2->yfinance) (2.21)\n",
            "Installing collected packages: soupsieve, requests, html5lib, frozendict, cryptography, beautifulsoup4, yfinance\n",
            "  Attempting uninstall: requests\n",
            "    Found existing installation: requests 2.25.1\n",
            "    Uninstalling requests-2.25.1:\n",
            "      Successfully uninstalled requests-2.25.1\n",
            "  Attempting uninstall: html5lib\n",
            "    Found existing installation: html5lib 1.0.1\n",
            "    Uninstalling html5lib-1.0.1:\n",
            "      Successfully uninstalled html5lib-1.0.1\n",
            "  Attempting uninstall: beautifulsoup4\n",
            "    Found existing installation: beautifulsoup4 4.6.3\n",
            "    Uninstalling beautifulsoup4-4.6.3:\n",
            "      Successfully uninstalled beautifulsoup4-4.6.3\n",
            "Successfully installed beautifulsoup4-4.11.2 cryptography-39.0.1 frozendict-2.3.5 html5lib-1.1 requests-2.28.2 soupsieve-2.4 yfinance-0.2.12\n"
          ]
        }
      ]
    },
    {
      "cell_type": "code",
      "execution_count": 2,
      "metadata": {
        "colab": {
          "base_uri": "https://localhost:8080/",
          "height": 472
        },
        "id": "Bi9vjAsPfWdY",
        "outputId": "4101802b-a2a9-4b02-8fc6-0d4a5178c16f"
      },
      "outputs": [
        {
          "output_type": "stream",
          "name": "stdout",
          "text": [
            "[*********************100%***********************]  4 of 4 completed\n"
          ]
        },
        {
          "output_type": "execute_result",
          "data": {
            "text/plain": [
              "                  CL=F        XOM        ^GSPC   ^TNX\n",
              "Date                                                 \n",
              "2007-06-01   65.080002  84.220001  1536.339966  4.956\n",
              "2007-06-04   66.209999  84.220001  1539.180054  4.929\n",
              "2007-06-05   65.610001  84.260002  1530.949951  4.976\n",
              "2007-06-06   65.959999  83.620003  1517.380005  4.970\n",
              "2007-06-07   66.930000  81.959999  1490.719971  5.099\n",
              "...                ...        ...          ...    ...\n",
              "2022-06-24  107.620003  86.900002  3911.739990  3.125\n",
              "2022-06-27  109.570000  89.029999  3900.110107  3.194\n",
              "2022-06-28  111.760002  91.500000  3821.550049  3.206\n",
              "2022-06-29  109.779999  88.120003  3818.830078  3.093\n",
              "2022-06-30  105.760002  85.639999  3785.379883  2.972\n",
              "\n",
              "[3800 rows x 4 columns]"
            ],
            "text/html": [
              "\n",
              "  <div id=\"df-deaaf412-cc4d-4ebb-a930-4bde32874134\">\n",
              "    <div class=\"colab-df-container\">\n",
              "      <div>\n",
              "<style scoped>\n",
              "    .dataframe tbody tr th:only-of-type {\n",
              "        vertical-align: middle;\n",
              "    }\n",
              "\n",
              "    .dataframe tbody tr th {\n",
              "        vertical-align: top;\n",
              "    }\n",
              "\n",
              "    .dataframe thead th {\n",
              "        text-align: right;\n",
              "    }\n",
              "</style>\n",
              "<table border=\"1\" class=\"dataframe\">\n",
              "  <thead>\n",
              "    <tr style=\"text-align: right;\">\n",
              "      <th></th>\n",
              "      <th>CL=F</th>\n",
              "      <th>XOM</th>\n",
              "      <th>^GSPC</th>\n",
              "      <th>^TNX</th>\n",
              "    </tr>\n",
              "    <tr>\n",
              "      <th>Date</th>\n",
              "      <th></th>\n",
              "      <th></th>\n",
              "      <th></th>\n",
              "      <th></th>\n",
              "    </tr>\n",
              "  </thead>\n",
              "  <tbody>\n",
              "    <tr>\n",
              "      <th>2007-06-01</th>\n",
              "      <td>65.080002</td>\n",
              "      <td>84.220001</td>\n",
              "      <td>1536.339966</td>\n",
              "      <td>4.956</td>\n",
              "    </tr>\n",
              "    <tr>\n",
              "      <th>2007-06-04</th>\n",
              "      <td>66.209999</td>\n",
              "      <td>84.220001</td>\n",
              "      <td>1539.180054</td>\n",
              "      <td>4.929</td>\n",
              "    </tr>\n",
              "    <tr>\n",
              "      <th>2007-06-05</th>\n",
              "      <td>65.610001</td>\n",
              "      <td>84.260002</td>\n",
              "      <td>1530.949951</td>\n",
              "      <td>4.976</td>\n",
              "    </tr>\n",
              "    <tr>\n",
              "      <th>2007-06-06</th>\n",
              "      <td>65.959999</td>\n",
              "      <td>83.620003</td>\n",
              "      <td>1517.380005</td>\n",
              "      <td>4.970</td>\n",
              "    </tr>\n",
              "    <tr>\n",
              "      <th>2007-06-07</th>\n",
              "      <td>66.930000</td>\n",
              "      <td>81.959999</td>\n",
              "      <td>1490.719971</td>\n",
              "      <td>5.099</td>\n",
              "    </tr>\n",
              "    <tr>\n",
              "      <th>...</th>\n",
              "      <td>...</td>\n",
              "      <td>...</td>\n",
              "      <td>...</td>\n",
              "      <td>...</td>\n",
              "    </tr>\n",
              "    <tr>\n",
              "      <th>2022-06-24</th>\n",
              "      <td>107.620003</td>\n",
              "      <td>86.900002</td>\n",
              "      <td>3911.739990</td>\n",
              "      <td>3.125</td>\n",
              "    </tr>\n",
              "    <tr>\n",
              "      <th>2022-06-27</th>\n",
              "      <td>109.570000</td>\n",
              "      <td>89.029999</td>\n",
              "      <td>3900.110107</td>\n",
              "      <td>3.194</td>\n",
              "    </tr>\n",
              "    <tr>\n",
              "      <th>2022-06-28</th>\n",
              "      <td>111.760002</td>\n",
              "      <td>91.500000</td>\n",
              "      <td>3821.550049</td>\n",
              "      <td>3.206</td>\n",
              "    </tr>\n",
              "    <tr>\n",
              "      <th>2022-06-29</th>\n",
              "      <td>109.779999</td>\n",
              "      <td>88.120003</td>\n",
              "      <td>3818.830078</td>\n",
              "      <td>3.093</td>\n",
              "    </tr>\n",
              "    <tr>\n",
              "      <th>2022-06-30</th>\n",
              "      <td>105.760002</td>\n",
              "      <td>85.639999</td>\n",
              "      <td>3785.379883</td>\n",
              "      <td>2.972</td>\n",
              "    </tr>\n",
              "  </tbody>\n",
              "</table>\n",
              "<p>3800 rows × 4 columns</p>\n",
              "</div>\n",
              "      <button class=\"colab-df-convert\" onclick=\"convertToInteractive('df-deaaf412-cc4d-4ebb-a930-4bde32874134')\"\n",
              "              title=\"Convert this dataframe to an interactive table.\"\n",
              "              style=\"display:none;\">\n",
              "        \n",
              "  <svg xmlns=\"http://www.w3.org/2000/svg\" height=\"24px\"viewBox=\"0 0 24 24\"\n",
              "       width=\"24px\">\n",
              "    <path d=\"M0 0h24v24H0V0z\" fill=\"none\"/>\n",
              "    <path d=\"M18.56 5.44l.94 2.06.94-2.06 2.06-.94-2.06-.94-.94-2.06-.94 2.06-2.06.94zm-11 1L8.5 8.5l.94-2.06 2.06-.94-2.06-.94L8.5 2.5l-.94 2.06-2.06.94zm10 10l.94 2.06.94-2.06 2.06-.94-2.06-.94-.94-2.06-.94 2.06-2.06.94z\"/><path d=\"M17.41 7.96l-1.37-1.37c-.4-.4-.92-.59-1.43-.59-.52 0-1.04.2-1.43.59L10.3 9.45l-7.72 7.72c-.78.78-.78 2.05 0 2.83L4 21.41c.39.39.9.59 1.41.59.51 0 1.02-.2 1.41-.59l7.78-7.78 2.81-2.81c.8-.78.8-2.07 0-2.86zM5.41 20L4 18.59l7.72-7.72 1.47 1.35L5.41 20z\"/>\n",
              "  </svg>\n",
              "      </button>\n",
              "      \n",
              "  <style>\n",
              "    .colab-df-container {\n",
              "      display:flex;\n",
              "      flex-wrap:wrap;\n",
              "      gap: 12px;\n",
              "    }\n",
              "\n",
              "    .colab-df-convert {\n",
              "      background-color: #E8F0FE;\n",
              "      border: none;\n",
              "      border-radius: 50%;\n",
              "      cursor: pointer;\n",
              "      display: none;\n",
              "      fill: #1967D2;\n",
              "      height: 32px;\n",
              "      padding: 0 0 0 0;\n",
              "      width: 32px;\n",
              "    }\n",
              "\n",
              "    .colab-df-convert:hover {\n",
              "      background-color: #E2EBFA;\n",
              "      box-shadow: 0px 1px 2px rgba(60, 64, 67, 0.3), 0px 1px 3px 1px rgba(60, 64, 67, 0.15);\n",
              "      fill: #174EA6;\n",
              "    }\n",
              "\n",
              "    [theme=dark] .colab-df-convert {\n",
              "      background-color: #3B4455;\n",
              "      fill: #D2E3FC;\n",
              "    }\n",
              "\n",
              "    [theme=dark] .colab-df-convert:hover {\n",
              "      background-color: #434B5C;\n",
              "      box-shadow: 0px 1px 3px 1px rgba(0, 0, 0, 0.15);\n",
              "      filter: drop-shadow(0px 1px 2px rgba(0, 0, 0, 0.3));\n",
              "      fill: #FFFFFF;\n",
              "    }\n",
              "  </style>\n",
              "\n",
              "      <script>\n",
              "        const buttonEl =\n",
              "          document.querySelector('#df-deaaf412-cc4d-4ebb-a930-4bde32874134 button.colab-df-convert');\n",
              "        buttonEl.style.display =\n",
              "          google.colab.kernel.accessAllowed ? 'block' : 'none';\n",
              "\n",
              "        async function convertToInteractive(key) {\n",
              "          const element = document.querySelector('#df-deaaf412-cc4d-4ebb-a930-4bde32874134');\n",
              "          const dataTable =\n",
              "            await google.colab.kernel.invokeFunction('convertToInteractive',\n",
              "                                                     [key], {});\n",
              "          if (!dataTable) return;\n",
              "\n",
              "          const docLinkHtml = 'Like what you see? Visit the ' +\n",
              "            '<a target=\"_blank\" href=https://colab.research.google.com/notebooks/data_table.ipynb>data table notebook</a>'\n",
              "            + ' to learn more about interactive tables.';\n",
              "          element.innerHTML = '';\n",
              "          dataTable['output_type'] = 'display_data';\n",
              "          await google.colab.output.renderOutput(dataTable, element);\n",
              "          const docLink = document.createElement('div');\n",
              "          docLink.innerHTML = docLinkHtml;\n",
              "          element.appendChild(docLink);\n",
              "        }\n",
              "      </script>\n",
              "    </div>\n",
              "  </div>\n",
              "  "
            ]
          },
          "metadata": {},
          "execution_count": 2
        }
      ],
      "source": [
        "# Import the yfinance library and assign it to the alias 'yf'\n",
        "import yfinance as yf\n",
        "\n",
        "# Create a list of tickers for the stocks you want to retrieve data for\n",
        "list_tickers = ['CL=F','^GSPC', '^TNX', 'XOM']\n",
        "\n",
        "# Use the Tickers() function from yfinance to create an object for each ticker in the list\n",
        "tickers = yf.Tickers(list_tickers)\n",
        "\n",
        "# Use the download() function from yfinance to download the stock data for the specified date range\n",
        "data = yf.download(list_tickers,  start=\"2007-06-01\", end=\"2022-07-01\")\n",
        "\n",
        "# Extract the 'Close' column from the dataframe\n",
        "data = data['Close']\n",
        "\n",
        "# Print the dataframe\n",
        "data\n"
      ]
    },
    {
      "cell_type": "code",
      "execution_count": 3,
      "metadata": {
        "colab": {
          "base_uri": "https://localhost:8080/"
        },
        "id": "abeYDc_6spJv",
        "outputId": "0bb1c2be-4199-4f18-9684-7708eea5c026"
      },
      "outputs": [
        {
          "output_type": "execute_result",
          "data": {
            "text/plain": [
              "False"
            ]
          },
          "metadata": {},
          "execution_count": 3
        }
      ],
      "source": [
        "# Remove all rows with missing values (NaN) from the dataframe\n",
        "data = data.dropna()\n",
        "\n",
        "# Check if the dataframe still contains any missing values\n",
        "# returns False if there is no missing values\n",
        "data.isnull().values.any()"
      ]
    },
    {
      "cell_type": "markdown",
      "source": [
        "##Statistical analysis "
      ],
      "metadata": {
        "id": "4xu7Fp7V3z3d"
      }
    },
    {
      "cell_type": "code",
      "source": [
        "## Compute the Pearson's correlation coefficient between the columns\n",
        "corr_matrix = data.corr()\n",
        "print(corr_matrix)"
      ],
      "metadata": {
        "colab": {
          "base_uri": "https://localhost:8080/"
        },
        "id": "HX_JGrUzugUI",
        "outputId": "5d70da50-85a4-46ee-d859-49a278ea350f"
      },
      "execution_count": 4,
      "outputs": [
        {
          "output_type": "stream",
          "name": "stdout",
          "text": [
            "           CL=F       XOM     ^GSPC      ^TNX\n",
            "CL=F   1.000000  0.478751 -0.283245  0.445553\n",
            "XOM    0.478751  1.000000 -0.369685  0.400259\n",
            "^GSPC -0.283245 -0.369685  1.000000 -0.533662\n",
            "^TNX   0.445553  0.400259 -0.533662  1.000000\n"
          ]
        }
      ]
    },
    {
      "cell_type": "code",
      "source": [
        "## The spearmanr function returns two values: the Spearman's rank correlation coefficient (corr) and the p-value. The p-value can be used \n",
        "## to assess the statistical significance of the correlation. A small p-value (typically less than 0.05) \n",
        "## indicates that the correlation is statistically significant, while a large p-value suggests that the correlation may not be meaningful.\n",
        "\n",
        "from scipy.stats import spearmanr\n",
        "\n",
        "# Compute the Spearman's rank correlation matrix\n",
        "corr_matrix = data.corr(method='spearman')\n",
        "\n",
        "# Extract the column names\n",
        "column_names = data.columns\n",
        "\n",
        "# Loop through all pairs of variables\n",
        "for i in range(len(column_names)):\n",
        "    for j in range(i+1, len(column_names)):\n",
        "        # Extract the columns of interest\n",
        "        x = data[column_names[i]].values\n",
        "        y = data[column_names[j]].values\n",
        "        \n",
        "        # Compute the Spearman's rank correlation coefficient and p-value\n",
        "        corr, p_value = spearmanr(x, y)\n",
        "        \n",
        "        print(f'Spearman\\'s rank correlation coefficient between {column_names[i]} and {column_names[j]}: {corr:.3f}')\n",
        "        print(f'p-value: {p_value:.3f}')\n"
      ],
      "metadata": {
        "colab": {
          "base_uri": "https://localhost:8080/"
        },
        "id": "Fviawhuo3D7I",
        "outputId": "6a4a42aa-5847-4149-defb-efd8071219f6"
      },
      "execution_count": 5,
      "outputs": [
        {
          "output_type": "stream",
          "name": "stdout",
          "text": [
            "Spearman's rank correlation coefficient between CL=F and XOM: 0.449\n",
            "p-value: 0.000\n",
            "Spearman's rank correlation coefficient between CL=F and ^GSPC: -0.368\n",
            "p-value: 0.000\n",
            "Spearman's rank correlation coefficient between CL=F and ^TNX: 0.428\n",
            "p-value: 0.000\n",
            "Spearman's rank correlation coefficient between XOM and ^GSPC: -0.162\n",
            "p-value: 0.000\n",
            "Spearman's rank correlation coefficient between XOM and ^TNX: 0.229\n",
            "p-value: 0.000\n",
            "Spearman's rank correlation coefficient between ^GSPC and ^TNX: -0.555\n",
            "p-value: 0.000\n"
          ]
        }
      ]
    },
    {
      "cell_type": "markdown",
      "source": [
        "# Descriptive statistics\n",
        "\n"
      ],
      "metadata": {
        "id": "GgFwHJ1G4pu8"
      }
    },
    {
      "cell_type": "code",
      "source": [
        "# Compute the descriptive statistics\n",
        "stats = data.describe()\n",
        "\n",
        "# Print the statistics\n",
        "print(stats)"
      ],
      "metadata": {
        "colab": {
          "base_uri": "https://localhost:8080/"
        },
        "id": "3g80bMj44vEe",
        "outputId": "d0a86d03-18b9-470d-a83f-3373a6e7e215"
      },
      "execution_count": 6,
      "outputs": [
        {
          "output_type": "stream",
          "name": "stdout",
          "text": [
            "              CL=F          XOM        ^GSPC         ^TNX\n",
            "count  3795.000000  3795.000000  3795.000000  3795.000000\n",
            "mean     72.404379    77.762809  2140.631904     2.458397\n",
            "std      23.799346    14.021281   982.681021     0.894163\n",
            "min     -37.630001    31.450001   676.530029     0.499000\n",
            "25%      52.174999    70.085003  1337.885010     1.827000\n",
            "50%      70.800003    81.160004  1979.260010     2.373000\n",
            "75%      93.020000    87.239998  2747.085083     2.971500\n",
            "max     145.289993   104.589996  4796.560059     5.248000\n"
          ]
        }
      ]
    },
    {
      "cell_type": "code",
      "source": [
        "# Select specific columns from the dataframe\n",
        "data = data[['CL=F','^GSPC', '^TNX', 'XOM']]\n",
        "\n",
        "# Import numpy and train_test_split function from sklearn\n",
        "import numpy as np\n",
        "from sklearn.model_selection import train_test_split\n",
        "\n",
        "# Split the data into a training and test set, with a 80/20 split\n",
        "# test_size = 0.2 means 20% of the data will be used for testing\n",
        "training_set, test_set = train_test_split(data, test_size=0.2)\n",
        "\n",
        "# Convert the training and test sets to numpy arrays\n",
        "training_set = training_set.values\n",
        "test_set = test_set.values"
      ],
      "metadata": {
        "id": "IXxFKfFu_ImY"
      },
      "execution_count": 7,
      "outputs": []
    },
    {
      "cell_type": "code",
      "source": [
        "# Check the shape of the test set\n",
        "# The output will be the number of rows and columns in the test set\n",
        "test_set.shape"
      ],
      "metadata": {
        "id": "KOuqCvYDrD_G",
        "outputId": "32dc6b85-3dac-4c6a-e537-b435b4d6a52d",
        "colab": {
          "base_uri": "https://localhost:8080/"
        }
      },
      "execution_count": 8,
      "outputs": [
        {
          "output_type": "execute_result",
          "data": {
            "text/plain": [
              "(759, 4)"
            ]
          },
          "metadata": {},
          "execution_count": 8
        }
      ]
    },
    {
      "cell_type": "code",
      "source": [
        "# Import the StandardScaler class from the sklearn.preprocessing module\n",
        "from sklearn.preprocessing import StandardScaler\n",
        "\n",
        "# Create an instance of the StandardScaler class\n",
        "sc = StandardScaler()\n",
        "\n",
        "# Fit the StandardScaler to the training set and transform it\n",
        "# This centers and scales the data so that the mean is 0 and the standard deviation is 1\n",
        "training_set_scaled = sc.fit_transform(training_set)\n",
        "\n",
        "# Apply the same scaling to the test set\n",
        "test_set_scaled = sc.transform(test_set)"
      ],
      "metadata": {
        "id": "XXLlYj9co7MI"
      },
      "execution_count": 9,
      "outputs": []
    },
    {
      "cell_type": "code",
      "source": [
        "# Create the training set for the independent variables (X_train)\n",
        "# This is all columns except the last column in the training set (scaled)\n",
        "X_train = training_set_scaled[:,:-1]\n",
        "\n",
        "# Create the training set for the dependent variable (y_train)\n",
        "# This is the last column in the training set (scaled)\n",
        "y_train = training_set_scaled[:,-1]\n",
        "\n",
        "# Print the X_train and y_train to check the data\n",
        "X_train, y_train"
      ],
      "metadata": {
        "id": "uNyGqNuKpAVn",
        "outputId": "651aabb4-ecbc-4b90-db10-2f439d013358",
        "colab": {
          "base_uri": "https://localhost:8080/"
        }
      },
      "execution_count": 10,
      "outputs": [
        {
          "output_type": "execute_result",
          "data": {
            "text/plain": [
              "(array([[ 1.34277516,  2.51510463, -0.06937085],\n",
              "        [ 1.27620983, -0.23027325,  0.14482278],\n",
              "        [-0.00370323,  0.77496731,  0.70971738],\n",
              "        ...,\n",
              "        [-0.14989477,  2.07019353, -0.92947559],\n",
              "        [ 0.0325287 , -1.10349557,  1.27350198],\n",
              "        [-1.02535848,  0.05234031, -0.15704602]]),\n",
              " array([ 0.32331184,  1.6010078 ,  0.61614657, ..., -1.17915129,\n",
              "        -0.92814986,  0.62890937]))"
            ]
          },
          "metadata": {},
          "execution_count": 10
        }
      ]
    },
    {
      "cell_type": "code",
      "source": [
        "# Create the test set for the independent variables (X_test)\n",
        "# This is all columns except the last column in the test set (scaled)\n",
        "X_test = test_set_scaled[:,:-1]\n",
        "\n",
        "# Create the test set for the dependent variable (y_test)\n",
        "# This is the last column in the test set (scaled)\n",
        "y_test = test_set_scaled[:,-1]"
      ],
      "metadata": {
        "id": "G1dVFroEpBz-"
      },
      "execution_count": 11,
      "outputs": []
    },
    {
      "cell_type": "code",
      "source": [
        "X_train.shape"
      ],
      "metadata": {
        "id": "K94xOPHp7APs",
        "outputId": "0faa6b5a-c8cb-44ac-c920-8f6fe16306fe",
        "colab": {
          "base_uri": "https://localhost:8080/"
        }
      },
      "execution_count": 12,
      "outputs": [
        {
          "output_type": "execute_result",
          "data": {
            "text/plain": [
              "(3036, 3)"
            ]
          },
          "metadata": {},
          "execution_count": 12
        }
      ]
    },
    {
      "cell_type": "markdown",
      "metadata": {
        "id": "ZIpvZMpzpbbz"
      },
      "source": [
        "MODEL.PY"
      ]
    },
    {
      "cell_type": "code",
      "execution_count": 13,
      "metadata": {
        "id": "sdqOR2yWjba2"
      },
      "outputs": [],
      "source": [
        "from tensorflow import keras\n",
        "import numpy as np\n",
        "import tensorflow as tf"
      ]
    },
    {
      "cell_type": "code",
      "source": [
        "num_unique_vals = [\n",
        "      len(np.unique(X_train[:, i])) for i in range(X_train.shape[-1])\n",
        "  ]\n",
        "num_units = [\n",
        "      min(1000, i * 2) for i in num_unique_vals\n",
        "  ]\n",
        "num_inputs = X_train.shape[-1]"
      ],
      "metadata": {
        "id": "irLdndzw6rRP"
      },
      "execution_count": 14,
      "outputs": []
    },
    {
      "cell_type": "code",
      "source": [
        "def create_nam_model(x_train,\n",
        "                     dropout,\n",
        "                     feature_dropout = 0.0,\n",
        "                     num_basis_functions = 1000,\n",
        "                     units_multiplier = 2,\n",
        "                     activation = 'relu',\n",
        "                     trainable = True):\n",
        "  num_unique_vals = [\n",
        "      len(np.unique(x_train[:, i])) for i in range(x_train.shape[-1])\n",
        "  ]\n",
        "  num_units = [\n",
        "      min(num_basis_functions, i * units_multiplier) for i in num_unique_vals\n",
        "  ]\n",
        "  num_inputs = x_train.shape[-1]\n",
        "  nn_model = NAM(\n",
        "      x_train = x_train,\n",
        "      num_inputs=num_inputs,\n",
        "      num_units=num_units,\n",
        "      feature_dropout= feature_dropout,\n",
        "      dropout=np.float32(dropout),\n",
        "      trainable=trainable)\n",
        "  return nn_model\n",
        "\n",
        "\n",
        "# Define the __init__ method that initializes the object instance.\n",
        "# It takes the following arguments:\n",
        "# - embed_dim: integer specifying the embedding dimension (default is 23)\n",
        "# - num_heads: integer specifying the number of attention heads (default is 10)\n",
        "# - ff_dim: integer specifying the size of the feedforward network (default is 10)\n",
        "# - rate: float specifying the dropout rate (default is 0.1)\n",
        "class TransformerBlock(tf.keras.layers.Layer):\n",
        "    def __init__(self, embed_dim=23, num_heads=10, ff_dim=10, rate=0.1):\n",
        "        super(TransformerBlock, self).__init__()\n",
        "        self.att = tf.keras.layers.MultiHeadAttention(num_heads=num_heads, key_dim=embed_dim)\n",
        "        self.ffn = keras.Sequential(\n",
        "            [tf.keras.layers.Dense(ff_dim, activation=\"elu\"), tf.keras.layers.Dense(embed_dim),]\n",
        "        )\n",
        "        self.layernorm1 = tf.keras.layers.LayerNormalization(epsilon=1e-6)\n",
        "        self.layernorm2 = tf.keras.layers.LayerNormalization(epsilon=1e-6)\n",
        "        self.dropout1 = tf.keras.layers.Dropout(rate)\n",
        "        self.dropout2 = tf.keras.layers.Dropout(rate)\n",
        "        \n",
        "# Define the call method to implement the forward pass of the layer.\n",
        "# It takes the following arguments:\n",
        "# - inputs: the input tensor\n",
        "# - training: boolean flag indicating whether the layer is in training mode (default is True)\n",
        "    def call(self, inputs, training=True):\n",
        "\n",
        "        attn_output = self.att(inputs, inputs)\n",
        "        attn_output = self.dropout1(attn_output, training=training)\n",
        "        out1 = self.layernorm1(inputs + attn_output)\n",
        "        ffn_output = self.ffn(out1)\n",
        "        ffn_output = self.dropout2(ffn_output, training=training)\n",
        "        return self.layernorm2(out1 + ffn_output)\n",
        "\n",
        "class TokenAndPositionEmbedding(tf.keras.layers.Layer):\n",
        "    def __init__(self, maxlen=200, seq_size=200, embed_dim=23):\n",
        "        super(TokenAndPositionEmbedding, self).__init__()\n",
        "        self.token_emb = tf.keras.layers.Embedding(input_dim=seq_size, output_dim=embed_dim)\n",
        "        self.pos_emb = tf.keras.layers.Embedding(input_dim=maxlen, output_dim=embed_dim)\n",
        "\n",
        "    def call(self, x):\n",
        "        maxlen = tf.shape(x)[-1]\n",
        "        positions = tf.range(start=0, limit=maxlen, delta=1)\n",
        "        positions = self.pos_emb(positions)\n",
        "        x = self.token_emb(x)\n",
        "        return x + positions\n",
        "\n",
        "class Transformer(tf.keras.Model):\n",
        "    def __init__(self, input_dim, seq_len, output_dim=1):\n",
        "        super(Transformer, self).__init__()\n",
        "        self.input_dim = input_dim\n",
        "        self.seq_len = seq_len\n",
        "        self.output_dim = output_dim\n",
        "        self.embedding_layer = TokenAndPositionEmbedding(seq_size=input_dim, maxlen=seq_len)\n",
        "        self.transformer_block = TransformerBlock()\n",
        "        self.gap1d = tf.keras.layers.GlobalAveragePooling1D()\n",
        "        self.dropout = tf.keras.layers.Dropout(0.1)\n",
        "        self.dense = tf.keras.layers.Dense(1)\n",
        "        \n",
        "    def call(self, inputs):\n",
        "        x = self.embedding_layer(inputs)\n",
        "        x = self.transformer_block(x)\n",
        "        x = self.gap1d(x)\n",
        "        x = self.dropout(x)\n",
        "        outputs = self.dense(x)\n",
        "        return outputs\n",
        "\n",
        "class NAM(tf.keras.Model):\n",
        "  def __init__(self,\n",
        "               x_train,\n",
        "               num_inputs,\n",
        "               num_units,\n",
        "               feature_dropout,\n",
        "               dropout = 0.0,\n",
        "               trainable = True,):\n",
        "    super(NAM, self).__init__()\n",
        "    self._num_inputs = num_inputs\n",
        "    self._x_train = x_train\n",
        "    self._feature_dropout = feature_dropout\n",
        "    self._num_units = num_units\n",
        "    self._dropout = dropout\n",
        "    self._trainable = trainable\n",
        " \n",
        "  def build(self, input_shape):\n",
        "    self.transformers = [None] * self._num_inputs\n",
        "    for i in range(self._num_inputs):\n",
        "      self.transformers[i] = Transformer(input_dim=self._x_train.shape[-1], seq_len=self._x_train.shape[-2], output_dim=self._num_units)\n",
        "    self._bias = self.add_weight(\n",
        "        name='bias',\n",
        "        initializer=tf.keras.initializers.Zeros(),\n",
        "        trainable=True,)\n",
        "    self._true = tf.constant(True, dtype=tf.bool)\n",
        "    self._false = tf.constant(False, dtype=tf.bool)\n",
        " \n",
        "  def call(self, x, training=True):\n",
        "    individual_outputs = self.calc_outputs(x, training=training)\n",
        "    stacked_out = tf.stack(individual_outputs, axis=-1)\n",
        "    training = self._true if training else self._false\n",
        "    dropout_out = tf.nn.dropout(\n",
        "        stacked_out,\n",
        "        rate=tf.cond(training, lambda: self._feature_dropout, lambda: 0.0))\n",
        "    out = tf.reduce_sum(dropout_out, axis=-1)\n",
        "    return out + self._bias\n",
        "\n",
        "  def calc_outputs(self, x, training=True):\n",
        "    list_x = tf.split(x, self._num_inputs, axis=-1)\n",
        "    return [\n",
        "        self.transformers[i](x_i)\n",
        "        for i, x_i in enumerate(list_x)\n",
        "    ]\n",
        "\n",
        "  def score(self, x, y):\n",
        "        # Compute model performance metric\n",
        "        y_pred = self.predict(x)\n",
        "        return np.mean(y_pred == y)  # Example metric: mean accuracy\n"
      ],
      "metadata": {
        "id": "sa4yqN0w9L2p"
      },
      "execution_count": 15,
      "outputs": []
    },
    {
      "cell_type": "code",
      "execution_count": 16,
      "metadata": {
        "id": "0jakR11XjiiR",
        "colab": {
          "base_uri": "https://localhost:8080/"
        },
        "outputId": "7955e7e6-3a9f-4b99-83f1-3d5803da2e7e"
      },
      "outputs": [
        {
          "output_type": "stream",
          "name": "stdout",
          "text": [
            "Model: \"nam\"\n",
            "_________________________________________________________________\n",
            " Layer (type)                Output Shape              Param #   \n",
            "=================================================================\n",
            " transformer (Transformer)   multiple                  92379     \n",
            "                                                                 \n",
            " transformer_1 (Transformer)  multiple                 92379     \n",
            "                                                                 \n",
            " transformer_2 (Transformer)  multiple                 92379     \n",
            "                                                                 \n",
            "=================================================================\n",
            "Total params: 277,138\n",
            "Trainable params: 277,138\n",
            "Non-trainable params: 0\n",
            "_________________________________________________________________\n"
          ]
        }
      ],
      "source": [
        "tf.compat.v1.reset_default_graph()\n",
        "TNAM = create_nam_model(\n",
        "    x_train = X_train, \n",
        "    dropout = 0.2,)\n",
        "\n",
        "_ = TNAM(X_train)\n",
        "TNAM.summary()"
      ]
    },
    {
      "cell_type": "code",
      "execution_count": 17,
      "metadata": {
        "id": "9vMK5Jc1juKC"
      },
      "outputs": [],
      "source": [
        "# Compile the model\n",
        "# The optimizer is the algorithm used to update the model's weights\n",
        "# Adam is a popular choice for neural networks\n",
        "# The loss function measures how well the model is doing, and the optimizer tries to minimize it\n",
        "# MeanSquaredError is a common choice for regression problems\n",
        "# The metrics is used to monitor the training and testing steps. It's useful to have an idea of how well the model is doing\n",
        "TNAM.compile(optimizer=tf.keras.optimizers.Adam() , \n",
        "                    loss= tf.keras.losses.MeanSquaredError(),\n",
        "                    metrics = tf.keras.metrics.RootMeanSquaredError(),)"
      ]
    },
    {
      "cell_type": "code",
      "execution_count": 18,
      "metadata": {
        "id": "RLqTYJOjjy3S",
        "colab": {
          "base_uri": "https://localhost:8080/"
        },
        "outputId": "d1f7ec88-c880-4951-87bf-3228a1e92e0d"
      },
      "outputs": [
        {
          "output_type": "stream",
          "name": "stdout",
          "text": [
            "Epoch 1/100\n"
          ]
        },
        {
          "output_type": "stream",
          "name": "stderr",
          "text": [
            "WARNING:tensorflow:From /usr/local/lib/python3.8/dist-packages/tensorflow/python/autograph/pyct/static_analysis/liveness.py:83: Analyzer.lamba_check (from tensorflow.python.autograph.pyct.static_analysis.liveness) is deprecated and will be removed after 2023-09-23.\n",
            "Instructions for updating:\n",
            "Lambda fuctions will be no more assumed to be used in the statement where they are used, or at least in the same block. https://github.com/tensorflow/tensorflow/issues/56089\n"
          ]
        },
        {
          "output_type": "stream",
          "name": "stdout",
          "text": [
            "95/95 [==============================] - 23s 31ms/step - loss: 1.3651 - root_mean_squared_error: 1.1684\n",
            "Epoch 2/100\n",
            "95/95 [==============================] - 1s 15ms/step - loss: 0.6668 - root_mean_squared_error: 0.8166\n",
            "Epoch 3/100\n",
            "95/95 [==============================] - 2s 17ms/step - loss: 0.5443 - root_mean_squared_error: 0.7378\n",
            "Epoch 4/100\n",
            "95/95 [==============================] - 1s 16ms/step - loss: 0.4933 - root_mean_squared_error: 0.7023\n",
            "Epoch 5/100\n",
            "95/95 [==============================] - 2s 17ms/step - loss: 0.4845 - root_mean_squared_error: 0.6961\n",
            "Epoch 6/100\n",
            "95/95 [==============================] - 1s 16ms/step - loss: 0.4442 - root_mean_squared_error: 0.6665\n",
            "Epoch 7/100\n",
            "95/95 [==============================] - 2s 17ms/step - loss: 0.4329 - root_mean_squared_error: 0.6580\n",
            "Epoch 8/100\n",
            "95/95 [==============================] - 2s 22ms/step - loss: 0.4241 - root_mean_squared_error: 0.6512\n",
            "Epoch 9/100\n",
            "95/95 [==============================] - 2s 19ms/step - loss: 0.4157 - root_mean_squared_error: 0.6447\n",
            "Epoch 10/100\n",
            "95/95 [==============================] - 1s 15ms/step - loss: 0.4052 - root_mean_squared_error: 0.6366\n",
            "Epoch 11/100\n",
            "95/95 [==============================] - 2s 16ms/step - loss: 0.3972 - root_mean_squared_error: 0.6302\n",
            "Epoch 12/100\n",
            "95/95 [==============================] - 2s 16ms/step - loss: 0.3890 - root_mean_squared_error: 0.6237\n",
            "Epoch 13/100\n",
            "95/95 [==============================] - 1s 16ms/step - loss: 0.3929 - root_mean_squared_error: 0.6268\n",
            "Epoch 14/100\n",
            "95/95 [==============================] - 1s 15ms/step - loss: 0.3983 - root_mean_squared_error: 0.6311\n",
            "Epoch 15/100\n",
            "95/95 [==============================] - 2s 18ms/step - loss: 0.3868 - root_mean_squared_error: 0.6219\n",
            "Epoch 16/100\n",
            "95/95 [==============================] - 2s 23ms/step - loss: 0.3930 - root_mean_squared_error: 0.6269\n",
            "Epoch 17/100\n",
            "95/95 [==============================] - 1s 15ms/step - loss: 0.3779 - root_mean_squared_error: 0.6148\n",
            "Epoch 18/100\n",
            "95/95 [==============================] - 1s 16ms/step - loss: 0.3848 - root_mean_squared_error: 0.6204\n",
            "Epoch 19/100\n",
            "95/95 [==============================] - 1s 15ms/step - loss: 0.3853 - root_mean_squared_error: 0.6208\n",
            "Epoch 20/100\n",
            "95/95 [==============================] - 1s 15ms/step - loss: 0.3789 - root_mean_squared_error: 0.6155\n",
            "Epoch 21/100\n",
            "95/95 [==============================] - 1s 16ms/step - loss: 0.3806 - root_mean_squared_error: 0.6169\n",
            "Epoch 22/100\n",
            "95/95 [==============================] - 1s 16ms/step - loss: 0.3815 - root_mean_squared_error: 0.6177\n",
            "Epoch 23/100\n",
            "95/95 [==============================] - 2s 19ms/step - loss: 0.3764 - root_mean_squared_error: 0.6136\n",
            "Epoch 24/100\n",
            "95/95 [==============================] - 2s 21ms/step - loss: 0.3802 - root_mean_squared_error: 0.6166\n",
            "Epoch 25/100\n",
            "95/95 [==============================] - 2s 16ms/step - loss: 0.3841 - root_mean_squared_error: 0.6198\n",
            "Epoch 26/100\n",
            "95/95 [==============================] - 1s 15ms/step - loss: 0.3657 - root_mean_squared_error: 0.6047\n",
            "Epoch 27/100\n",
            "95/95 [==============================] - 1s 15ms/step - loss: 0.3683 - root_mean_squared_error: 0.6069\n",
            "Epoch 28/100\n",
            "95/95 [==============================] - 2s 16ms/step - loss: 0.3697 - root_mean_squared_error: 0.6081\n",
            "Epoch 29/100\n",
            "95/95 [==============================] - 1s 15ms/step - loss: 0.3776 - root_mean_squared_error: 0.6145\n",
            "Epoch 30/100\n",
            "95/95 [==============================] - 1s 16ms/step - loss: 0.3777 - root_mean_squared_error: 0.6146\n",
            "Epoch 31/100\n",
            "95/95 [==============================] - 2s 21ms/step - loss: 0.3775 - root_mean_squared_error: 0.6144\n",
            "Epoch 32/100\n",
            "95/95 [==============================] - 2s 19ms/step - loss: 0.3736 - root_mean_squared_error: 0.6113\n",
            "Epoch 33/100\n",
            "95/95 [==============================] - 2s 16ms/step - loss: 0.3657 - root_mean_squared_error: 0.6047\n",
            "Epoch 34/100\n",
            "95/95 [==============================] - 1s 16ms/step - loss: 0.3637 - root_mean_squared_error: 0.6031\n",
            "Epoch 35/100\n",
            "95/95 [==============================] - 2s 16ms/step - loss: 0.3735 - root_mean_squared_error: 0.6111\n",
            "Epoch 36/100\n",
            "95/95 [==============================] - 1s 16ms/step - loss: 0.3675 - root_mean_squared_error: 0.6062\n",
            "Epoch 37/100\n",
            "95/95 [==============================] - 1s 16ms/step - loss: 0.3653 - root_mean_squared_error: 0.6044\n",
            "Epoch 38/100\n",
            "95/95 [==============================] - 4s 38ms/step - loss: 0.3623 - root_mean_squared_error: 0.6020\n",
            "Epoch 39/100\n",
            "95/95 [==============================] - 2s 24ms/step - loss: 0.3628 - root_mean_squared_error: 0.6023\n",
            "Epoch 40/100\n",
            "95/95 [==============================] - 1s 16ms/step - loss: 0.3612 - root_mean_squared_error: 0.6010\n",
            "Epoch 41/100\n",
            "95/95 [==============================] - 1s 15ms/step - loss: 0.3570 - root_mean_squared_error: 0.5975\n",
            "Epoch 42/100\n",
            "95/95 [==============================] - 1s 16ms/step - loss: 0.3685 - root_mean_squared_error: 0.6071\n",
            "Epoch 43/100\n",
            "95/95 [==============================] - 1s 16ms/step - loss: 0.3604 - root_mean_squared_error: 0.6003\n",
            "Epoch 44/100\n",
            "95/95 [==============================] - 1s 15ms/step - loss: 0.3676 - root_mean_squared_error: 0.6063\n",
            "Epoch 45/100\n",
            "95/95 [==============================] - 2s 20ms/step - loss: 0.3580 - root_mean_squared_error: 0.5983\n",
            "Epoch 46/100\n",
            "95/95 [==============================] - 2s 20ms/step - loss: 0.3654 - root_mean_squared_error: 0.6045\n",
            "Epoch 47/100\n",
            "95/95 [==============================] - 1s 16ms/step - loss: 0.3670 - root_mean_squared_error: 0.6058\n",
            "Epoch 48/100\n",
            "95/95 [==============================] - 2s 16ms/step - loss: 0.3613 - root_mean_squared_error: 0.6011\n",
            "Epoch 49/100\n",
            "95/95 [==============================] - 1s 16ms/step - loss: 0.3571 - root_mean_squared_error: 0.5976\n",
            "Epoch 50/100\n",
            "95/95 [==============================] - 1s 15ms/step - loss: 0.3622 - root_mean_squared_error: 0.6018\n",
            "Epoch 51/100\n",
            "95/95 [==============================] - 1s 15ms/step - loss: 0.3577 - root_mean_squared_error: 0.5981\n",
            "Epoch 52/100\n",
            "95/95 [==============================] - 2s 16ms/step - loss: 0.3594 - root_mean_squared_error: 0.5995\n",
            "Epoch 53/100\n",
            "95/95 [==============================] - 2s 24ms/step - loss: 0.3586 - root_mean_squared_error: 0.5988\n",
            "Epoch 54/100\n",
            "95/95 [==============================] - 2s 17ms/step - loss: 0.3636 - root_mean_squared_error: 0.6030\n",
            "Epoch 55/100\n",
            "95/95 [==============================] - 1s 15ms/step - loss: 0.3550 - root_mean_squared_error: 0.5959\n",
            "Epoch 56/100\n",
            "95/95 [==============================] - 2s 16ms/step - loss: 0.3590 - root_mean_squared_error: 0.5991\n",
            "Epoch 57/100\n",
            "95/95 [==============================] - 1s 16ms/step - loss: 0.3570 - root_mean_squared_error: 0.5975\n",
            "Epoch 58/100\n",
            "95/95 [==============================] - 2s 16ms/step - loss: 0.3604 - root_mean_squared_error: 0.6003\n",
            "Epoch 59/100\n",
            "95/95 [==============================] - 1s 15ms/step - loss: 0.3588 - root_mean_squared_error: 0.5990\n",
            "Epoch 60/100\n",
            "95/95 [==============================] - 2s 17ms/step - loss: 0.3533 - root_mean_squared_error: 0.5944\n",
            "Epoch 61/100\n",
            "95/95 [==============================] - 2s 22ms/step - loss: 0.3609 - root_mean_squared_error: 0.6008\n",
            "Epoch 62/100\n",
            "95/95 [==============================] - 1s 16ms/step - loss: 0.3534 - root_mean_squared_error: 0.5945\n",
            "Epoch 63/100\n",
            "95/95 [==============================] - 1s 16ms/step - loss: 0.3582 - root_mean_squared_error: 0.5985\n",
            "Epoch 64/100\n",
            "95/95 [==============================] - 1s 16ms/step - loss: 0.3590 - root_mean_squared_error: 0.5992\n",
            "Epoch 65/100\n",
            "95/95 [==============================] - 1s 16ms/step - loss: 0.3568 - root_mean_squared_error: 0.5973\n",
            "Epoch 66/100\n",
            "95/95 [==============================] - 1s 16ms/step - loss: 0.3640 - root_mean_squared_error: 0.6033\n",
            "Epoch 67/100\n",
            "95/95 [==============================] - 1s 16ms/step - loss: 0.3612 - root_mean_squared_error: 0.6010\n",
            "Epoch 68/100\n",
            "95/95 [==============================] - 2s 19ms/step - loss: 0.3595 - root_mean_squared_error: 0.5996\n",
            "Epoch 69/100\n",
            "95/95 [==============================] - 2s 21ms/step - loss: 0.3601 - root_mean_squared_error: 0.6001\n",
            "Epoch 70/100\n",
            "95/95 [==============================] - 1s 16ms/step - loss: 0.3533 - root_mean_squared_error: 0.5944\n",
            "Epoch 71/100\n",
            "95/95 [==============================] - 2s 16ms/step - loss: 0.3581 - root_mean_squared_error: 0.5984\n",
            "Epoch 72/100\n",
            "95/95 [==============================] - 1s 16ms/step - loss: 0.3543 - root_mean_squared_error: 0.5952\n",
            "Epoch 73/100\n",
            "95/95 [==============================] - 2s 16ms/step - loss: 0.3531 - root_mean_squared_error: 0.5942\n",
            "Epoch 74/100\n",
            "95/95 [==============================] - 1s 16ms/step - loss: 0.3531 - root_mean_squared_error: 0.5942\n",
            "Epoch 75/100\n",
            "95/95 [==============================] - 2s 16ms/step - loss: 0.3594 - root_mean_squared_error: 0.5995\n",
            "Epoch 76/100\n",
            "95/95 [==============================] - 2s 20ms/step - loss: 0.3557 - root_mean_squared_error: 0.5964\n",
            "Epoch 77/100\n",
            "95/95 [==============================] - 2s 19ms/step - loss: 0.3542 - root_mean_squared_error: 0.5951\n",
            "Epoch 78/100\n",
            "95/95 [==============================] - 1s 15ms/step - loss: 0.3564 - root_mean_squared_error: 0.5970\n",
            "Epoch 79/100\n",
            "95/95 [==============================] - 2s 16ms/step - loss: 0.3517 - root_mean_squared_error: 0.5930\n",
            "Epoch 80/100\n",
            "95/95 [==============================] - 1s 16ms/step - loss: 0.3529 - root_mean_squared_error: 0.5941\n",
            "Epoch 81/100\n",
            "95/95 [==============================] - 1s 16ms/step - loss: 0.3555 - root_mean_squared_error: 0.5962\n",
            "Epoch 82/100\n",
            "95/95 [==============================] - 2s 16ms/step - loss: 0.3556 - root_mean_squared_error: 0.5963\n",
            "Epoch 83/100\n",
            "95/95 [==============================] - 1s 15ms/step - loss: 0.3546 - root_mean_squared_error: 0.5955\n",
            "Epoch 84/100\n",
            "95/95 [==============================] - 2s 22ms/step - loss: 0.3542 - root_mean_squared_error: 0.5951\n",
            "Epoch 85/100\n",
            "95/95 [==============================] - 2s 17ms/step - loss: 0.3559 - root_mean_squared_error: 0.5965\n",
            "Epoch 86/100\n",
            "95/95 [==============================] - 2s 16ms/step - loss: 0.3533 - root_mean_squared_error: 0.5944\n",
            "Epoch 87/100\n",
            "95/95 [==============================] - 1s 16ms/step - loss: 0.3528 - root_mean_squared_error: 0.5939\n",
            "Epoch 88/100\n",
            "95/95 [==============================] - 1s 16ms/step - loss: 0.3512 - root_mean_squared_error: 0.5926\n",
            "Epoch 89/100\n",
            "95/95 [==============================] - 2s 16ms/step - loss: 0.3541 - root_mean_squared_error: 0.5951\n",
            "Epoch 90/100\n",
            "95/95 [==============================] - 2s 16ms/step - loss: 0.3511 - root_mean_squared_error: 0.5925\n",
            "Epoch 91/100\n",
            "95/95 [==============================] - 2s 17ms/step - loss: 0.3503 - root_mean_squared_error: 0.5919\n",
            "Epoch 92/100\n",
            "95/95 [==============================] - 2s 22ms/step - loss: 0.3557 - root_mean_squared_error: 0.5964\n",
            "Epoch 93/100\n",
            "95/95 [==============================] - 1s 16ms/step - loss: 0.3510 - root_mean_squared_error: 0.5925\n",
            "Epoch 94/100\n",
            "95/95 [==============================] - 1s 16ms/step - loss: 0.3492 - root_mean_squared_error: 0.5909\n",
            "Epoch 95/100\n",
            "95/95 [==============================] - 2s 17ms/step - loss: 0.3536 - root_mean_squared_error: 0.5947\n",
            "Epoch 96/100\n",
            "95/95 [==============================] - 1s 16ms/step - loss: 0.3559 - root_mean_squared_error: 0.5966\n",
            "Epoch 97/100\n",
            "95/95 [==============================] - 2s 16ms/step - loss: 0.3519 - root_mean_squared_error: 0.5932\n",
            "Epoch 98/100\n",
            "95/95 [==============================] - 2s 16ms/step - loss: 0.3499 - root_mean_squared_error: 0.5915\n",
            "Epoch 99/100\n",
            "95/95 [==============================] - 2s 20ms/step - loss: 0.3508 - root_mean_squared_error: 0.5923\n",
            "Epoch 100/100\n",
            "95/95 [==============================] - 2s 19ms/step - loss: 0.3553 - root_mean_squared_error: 0.5961\n"
          ]
        },
        {
          "output_type": "execute_result",
          "data": {
            "text/plain": [
              "<keras.callbacks.History at 0x7f25c02c79d0>"
            ]
          },
          "metadata": {},
          "execution_count": 18
        }
      ],
      "source": [
        "TNAM.fit(X_train, y_train, epochs = 100, batch_size = 32)"
      ]
    },
    {
      "cell_type": "code",
      "execution_count": 19,
      "metadata": {
        "id": "k4-aQdEshbPG",
        "colab": {
          "base_uri": "https://localhost:8080/"
        },
        "outputId": "9c22183f-c3f4-45fb-e585-18c71b791b14"
      },
      "outputs": [
        {
          "output_type": "stream",
          "name": "stdout",
          "text": [
            "24/24 [==============================] - 1s 9ms/step - loss: 0.3318 - root_mean_squared_error: 0.5761\n"
          ]
        },
        {
          "output_type": "execute_result",
          "data": {
            "text/plain": [
              "[0.3318413496017456, 0.576056718826294]"
            ]
          },
          "metadata": {},
          "execution_count": 19
        }
      ],
      "source": [
        "# Evaluate the model on the test set\n",
        "# This will return the loss and any metrics specified during model compilation\n",
        "TNAM.evaluate(X_test,y_test)"
      ]
    },
    {
      "cell_type": "code",
      "execution_count": 20,
      "metadata": {
        "id": "GTTG61gYYQPD",
        "colab": {
          "base_uri": "https://localhost:8080/"
        },
        "outputId": "ab9759f3-3c5e-49bc-e034-77fbaad3812e"
      },
      "outputs": [
        {
          "output_type": "stream",
          "name": "stdout",
          "text": [
            "24/24 [==============================] - 1s 8ms/step\n",
            "y_test.shape= (759, 1) y_pred.shape= (759, 1)\n"
          ]
        }
      ],
      "source": [
        "# Use the model to make predictions on the test set\n",
        "predicted_stock_price = TNAM.predict(X_test)\n",
        "y_pred = predicted_stock_price\n",
        "\n",
        "# Reshape y_test to have the same shape as the predictions\n",
        "y_test = np.reshape(y_test, (759,1))\n",
        "\n",
        "# Print the shape of y_test and the predictions to check they match\n",
        "print(\"y_test.shape=\",y_test.shape,\n",
        "      \"y_pred.shape=\",predicted_stock_price.shape)"
      ]
    },
    {
      "cell_type": "markdown",
      "source": [
        "Uncomment to code below only if you want to plot the real and predicted values.Otherwise you will see the normalized real and normalized predicted values"
      ],
      "metadata": {
        "id": "e8EvzzvTHPob"
      }
    },
    {
      "cell_type": "code",
      "source": [
        "# # Inverse scaling the training and test set\n",
        "# training_set_original = sc.inverse_transform(training_set_scaled)\n",
        "# test_set_original = sc.inverse_transform(test_set_scaled)\n",
        "\n",
        "# # Extracting the independent and dependent variables for the training set\n",
        "# # X_train contains all columns except the last column\n",
        "# X_train = training_set_original[:,:-1]\n",
        "# # y_train contains only the last column\n",
        "# y_train = training_set_original[:,-1]\n",
        "\n",
        "# # Extracting the independent and dependent variables for the test set\n",
        "# # X_test contains all columns except the last column\n",
        "# X_test = test_set_original[:,:-1]\n",
        "# # y_test contains only the last column\n",
        "# y_test = test_set_original[:,-1]\n",
        "\n",
        "# # Inverse scaling the predicted stock price\n",
        "# predicted_stock_price = y_pred*sc.scale_[-1]+sc.mean_[-1]"
      ],
      "metadata": {
        "id": "WI-3RVk8sxDp"
      },
      "execution_count": 21,
      "outputs": []
    },
    {
      "cell_type": "code",
      "source": [
        "from sklearn import metrics as sk_metrics\n",
        "\n",
        "\n",
        "def rmse(y_true, y_pred):\n",
        "  \"\"\"Root mean squared error between true and predicted values.\"\"\"\n",
        "  return float(np.sqrt(sk_metrics.mean_squared_error(y_true, y_pred)))\n",
        "\n",
        "def mae(y_true, y_pred):\n",
        "  \"\"\"Mean Absolute Error between true and predicted values.\"\"\"\n",
        "  return float(sk_metrics.mean_absolute_error(y_true, y_pred)) \n",
        "def mse(y_true, y_pred):\n",
        "  \"\"\"Mean squared error between true and predicted values.\"\"\"\n",
        "  return float(sk_metrics.mean_squared_error(y_true, y_pred))\n",
        "\n",
        "def r2_score(y_true, y_pred):\n",
        "  \"\"\"R-squared score between true and predicted values.\"\"\"\n",
        "  return float(sk_metrics.r2_score(y_true, y_pred)) \n",
        "  \n",
        "def sigmoid(x):\n",
        "  \"\"\"Sigmoid function.\"\"\"\n",
        "  if isinstance(x, list):\n",
        "    x = np.array(x)\n",
        "  return np.where(x >= 0, 1 / (1 + np.exp(-x)), np.exp(x) / (1 + np.exp(x)))\n",
        "\n",
        "def calculate_metric(y_true,\n",
        "                     predictions,\n",
        "                     regression = True):\n",
        "  \"\"\"Calculates the evaluation metric.\"\"\"\n",
        "  if regression:\n",
        "    return mse(y_true, predictions)\n",
        "  else:\n",
        "    return sk_metrics.roc_auc_score(y_true, sigmoid(predictions))"
      ],
      "metadata": {
        "id": "D4gxDX0LnDDV"
      },
      "execution_count": 22,
      "outputs": []
    },
    {
      "cell_type": "code",
      "execution_count": 23,
      "metadata": {
        "id": "D9Ufy_CSBLWj",
        "colab": {
          "base_uri": "https://localhost:8080/"
        },
        "outputId": "ea021d3b-f192-4d74-e6f4-d2948af38201"
      },
      "outputs": [
        {
          "output_type": "stream",
          "name": "stdout",
          "text": [
            "0.3318413746045599\n"
          ]
        }
      ],
      "source": [
        "# Call function that calculates a specific evaluation metric\n",
        "test_metric = calculate_metric(y_test, predicted_stock_price, regression=True)\n",
        "\n",
        "# Print the calculated metric\n",
        "print(test_metric)"
      ]
    },
    {
      "cell_type": "code",
      "execution_count": 24,
      "metadata": {
        "id": "7Qcbj2H2Yuxz",
        "colab": {
          "base_uri": "https://localhost:8080/",
          "height": 360
        },
        "outputId": "53d0d920-50e5-4f98-d595-92a48c51c86f"
      },
      "outputs": [
        {
          "output_type": "display_data",
          "data": {
            "text/plain": [
              "<Figure size 720x360 with 1 Axes>"
            ],
            "image/png": "[encoded data removed]"
          },
          "metadata": {
            "needs_background": "light"
          }
        }
      ],
      "source": [
        "import matplotlib.pyplot as plt\n",
        "\n",
        "# Set the size of the chart to 10x5 inches\n",
        "plt.figure(figsize=(10, 5))\n",
        "# Add a grid to the chart to improve readability\n",
        "plt.grid(visible=True, linestyle='-.')\n",
        "# Plot the real stock price in red and the predicted stock price in blue\n",
        "plt.plot(y_test, color = 'red', label = 'Real Stock Price')\n",
        "plt.plot(predicted_stock_price, color = 'blue', label = 'Predicted Stock Price')\n",
        "# Set the title of the chart to 'TNAM Prediction' and increase the font size\n",
        "plt.title('TΝΑΜ Prediction', fontsize=20)\n",
        "# Set the x-axis label to 'Time' and increase the font size\n",
        "plt.xlabel('Time', fontsize=15)\n",
        "# Set the y-axis label to 'Stock Price' and increase the font size\n",
        "plt.ylabel('Stock Price', fontsize=15)\n",
        "# Add a legend to the chart and increase the font size\n",
        "plt.legend(fontsize=15)\n",
        "# Set the y-axis limits to the minimum and maximum stock prices with an additional 10% buffer on either side\n",
        "plt.ylim(bottom=min(y_test) - (max(y_test) - min(y_test))*0.1, top=max(y_test) + (max(y_test) - min(y_test))*0.1)\n",
        "# Save the chart as an image file named 'TNAM.png' \n",
        "# plt.savefig(\"TNAM.png\")\n",
        "\n",
        "plt.show()"
      ]
    },
    {
      "cell_type": "code",
      "source": [
        "import numpy as np\n",
        "from sklearn.metrics import r2_score\n",
        "\n",
        "y_pred = predicted_stock_price\n",
        "\n",
        "# Calculate the baseline performance\n",
        "baseline_r2 = r2_score(y_test, y_pred)\n",
        "\n",
        "# Initialize a list to store the feature importance scores\n",
        "permutation_scores = []\n",
        "\n",
        "# Iterate over each feature\n",
        "for feature in range(X_train.shape[1]):\n",
        "    # Shuffle the values of the current feature\n",
        "    X_train_shuffled = X_train.copy()\n",
        "    X_train_shuffled[:, feature] = np.random.permutation(X_train[:, feature])\n",
        "\n",
        "    # Re-fit the model and make predictions\n",
        "    TNAM.fit(X_train_shuffled, y_train)\n",
        "    y_pred_shuffled = TNAM.predict(X_test)\n",
        "\n",
        "    # Calculate the decrease in performance\n",
        "    r2 = r2_score(y_test, y_pred_shuffled)\n",
        "    permutation_score = baseline_r2 - r2\n",
        "    permutation_scores.append(permutation_score)\n",
        "\n",
        "# normalize the feature importance to sum to 1\n",
        "permutation_scores = np.array(permutation_scores)\n",
        "permutation_scores /= permutation_scores.sum()"
      ],
      "metadata": {
        "id": "Bv29YVakGOxm",
        "colab": {
          "base_uri": "https://localhost:8080/"
        },
        "outputId": "71f7a6c4-3864-4046-bc89-662317b5a63c"
      },
      "execution_count": 25,
      "outputs": [
        {
          "output_type": "stream",
          "name": "stdout",
          "text": [
            "95/95 [==============================] - 2s 18ms/step - loss: 0.4254 - root_mean_squared_error: 0.6523\n",
            "24/24 [==============================] - 0s 6ms/step\n",
            "95/95 [==============================] - 1s 15ms/step - loss: 0.5716 - root_mean_squared_error: 0.7560\n",
            "24/24 [==============================] - 0s 5ms/step\n",
            "95/95 [==============================] - 1s 15ms/step - loss: 0.5787 - root_mean_squared_error: 0.7607\n",
            "24/24 [==============================] - 0s 5ms/step\n"
          ]
        }
      ]
    },
    {
      "cell_type": "code",
      "source": [
        "import matplotlib.pyplot as plt\n",
        "\n",
        "# Create a bar chart to visualize the feature importance scores\n",
        "plt.bar(range(X_train.shape[1]), permutation_scores, color='#00BFFF', edgecolor='#00008B')\n",
        "# Set the x-axis ticks to the names of the dataset features and rotate them for better readability\n",
        "plt.xticks(range(X_train.shape[1]), data.columns, rotation=45, fontsize=12)\n",
        "# Set the title of the chart to 'Feature Importance TNAM' and increase the font size\n",
        "plt.title('Feature Importance TNAM', fontsize=20)\n",
        "# Set the y-axis label to 'Feature Importance Score' and increase the font size\n",
        "plt.ylabel('Feature Importance Score', fontsize=14)\n",
        "# Set the y-axis limits to 0 and the maximum feature importance score plus 0.1\n",
        "plt.ylim(0, max(permutation_scores)+0.1)\n",
        "# Add a grid to the chart to improve readability and save the chart as an image file\n",
        "plt.grid(visible=True, linestyle='--', color='#D3D3D3')\n",
        "plt.savefig('feature_importance TNAM.png', bbox_inches='tight')\n",
        "\n",
        "plt.show()\n"
      ],
      "metadata": {
        "id": "QVoVVJBrG5Et",
        "colab": {
          "base_uri": "https://localhost:8080/",
          "height": 315
        },
        "outputId": "912dd953-c69b-4fce-ede9-a6568ba73102"
      },
      "execution_count": 26,
      "outputs": [
        {
          "output_type": "display_data",
          "data": {
            "text/plain": [
              "<Figure size 432x288 with 1 Axes>"
            ],
            "image/png": "[encoded data removed]"
          },
          "metadata": {
            "needs_background": "light"
          }
        }
      ]
    },
    {
      "cell_type": "code",
      "source": [
        "!pip install shap"
      ],
      "metadata": {
        "id": "rqhf5QTkpVzZ",
        "colab": {
          "base_uri": "https://localhost:8080/"
        },
        "outputId": "f635a36f-b8e4-4c83-91a8-50c52a46ce4c"
      },
      "execution_count": 27,
      "outputs": [
        {
          "output_type": "stream",
          "name": "stdout",
          "text": [
            "Looking in indexes: https://pypi.org/simple, https://us-python.pkg.dev/colab-wheels/public/simple/\n",
            "Collecting shap\n",
            "  Downloading shap-0.41.0-cp38-cp38-manylinux_2_12_x86_64.manylinux2010_x86_64.whl (575 kB)\n",
            "\u001b[2K     \u001b[90m━━━━━━━━━━━━━━━━━━━━━━━━━━━━━━━━━━━━━━\u001b[0m \u001b[32m575.9/575.9 KB\u001b[0m \u001b[31m39.2 MB/s\u001b[0m eta \u001b[36m0:00:00\u001b[0m\n",
            "\u001b[?25hCollecting slicer==0.0.7\n",
            "  Downloading slicer-0.0.7-py3-none-any.whl (14 kB)\n",
            "Requirement already satisfied: tqdm>4.25.0 in /usr/local/lib/python3.8/dist-packages (from shap) (4.64.1)\n",
            "Requirement already satisfied: scikit-learn in /usr/local/lib/python3.8/dist-packages (from shap) (1.0.2)\n",
            "Requirement already satisfied: numpy in /usr/local/lib/python3.8/dist-packages (from shap) (1.21.6)\n",
            "Requirement already satisfied: packaging>20.9 in /usr/local/lib/python3.8/dist-packages (from shap) (23.0)\n",
            "Requirement already satisfied: cloudpickle in /usr/local/lib/python3.8/dist-packages (from shap) (2.2.1)\n",
            "Requirement already satisfied: scipy in /usr/local/lib/python3.8/dist-packages (from shap) (1.7.3)\n",
            "Requirement already satisfied: pandas in /usr/local/lib/python3.8/dist-packages (from shap) (1.3.5)\n",
            "Requirement already satisfied: numba in /usr/local/lib/python3.8/dist-packages (from shap) (0.56.4)\n",
            "Requirement already satisfied: setuptools in /usr/local/lib/python3.8/dist-packages (from numba->shap) (57.4.0)\n",
            "Requirement already satisfied: importlib-metadata in /usr/local/lib/python3.8/dist-packages (from numba->shap) (6.0.0)\n",
            "Requirement already satisfied: llvmlite<0.40,>=0.39.0dev0 in /usr/local/lib/python3.8/dist-packages (from numba->shap) (0.39.1)\n",
            "Requirement already satisfied: pytz>=2017.3 in /usr/local/lib/python3.8/dist-packages (from pandas->shap) (2022.7.1)\n",
            "Requirement already satisfied: python-dateutil>=2.7.3 in /usr/local/lib/python3.8/dist-packages (from pandas->shap) (2.8.2)\n",
            "Requirement already satisfied: threadpoolctl>=2.0.0 in /usr/local/lib/python3.8/dist-packages (from scikit-learn->shap) (3.1.0)\n",
            "Requirement already satisfied: joblib>=0.11 in /usr/local/lib/python3.8/dist-packages (from scikit-learn->shap) (1.2.0)\n",
            "Requirement already satisfied: six>=1.5 in /usr/local/lib/python3.8/dist-packages (from python-dateutil>=2.7.3->pandas->shap) (1.15.0)\n",
            "Requirement already satisfied: zipp>=0.5 in /usr/local/lib/python3.8/dist-packages (from importlib-metadata->numba->shap) (3.13.0)\n",
            "Installing collected packages: slicer, shap\n",
            "Successfully installed shap-0.41.0 slicer-0.0.7\n"
          ]
        }
      ]
    },
    {
      "cell_type": "code",
      "source": [
        "import shap\n",
        "import matplotlib.pyplot as plt\n",
        "\n",
        "# Create an explainer object to calculate the SHAP values\n",
        "explainer = shap.Explainer(TNAM, X_test)\n",
        "shap_values = explainer(X_test)\n",
        "\n",
        "# Set the plot style to a more visually appealing style\n",
        "plt.style.use('seaborn-darkgrid')\n",
        "\n",
        "# Set the plot title\n",
        "plt.title('SHAP Feature Importance Plot TNAM', fontsize=20)\n",
        "\n",
        "# Create the bar plot of the feature importances\n",
        "shap.summary_plot(shap_values, X_test, feature_names=['CL=F','^GSPC', '^TNX'], plot_type='bar')"
      ],
      "metadata": {
        "colab": {
          "base_uri": "https://localhost:8080/",
          "height": 221
        },
        "id": "4A09cLLHpXC5",
        "outputId": "09f92c77-ea41-48f4-f814-f1d554d395e5"
      },
      "execution_count": 28,
      "outputs": [
        {
          "output_type": "stream",
          "name": "stderr",
          "text": [
            "Exact explainer: 760it [01:22,  9.07it/s]                         \n"
          ]
        },
        {
          "output_type": "display_data",
          "data": {
            "text/plain": [
              "<Figure size 576x194.4 with 1 Axes>"
            ],
            "image/png": "[encoded data removed]"
          },
          "metadata": {}
        }
      ]
    }
  ],
  "metadata": {
    "accelerator": "GPU",
    "colab": {
      "provenance": []
    },
    "gpuClass": "standard",
    "kernelspec": {
      "display_name": "Python 3.8.13",
      "language": "python",
      "name": "python3"
    },
    "language_info": {
      "codemirror_mode": {
        "name": "ipython",
        "version": 3
      },
      "file_extension": ".py",
      "mimetype": "text/x-python",
      "name": "python",
      "nbconvert_exporter": "python",
      "pygments_lexer": "ipython3",
      "version": "3.8.13"
    },
    "vscode": {
      "interpreter": {
        "hash": "4976e0179d97dd6d59b1329a76e601e17b789c2571b41c8b57f5fd69821c0dd3"
      }
    }
  },
  "nbformat": 4,
  "nbformat_minor": 0
}