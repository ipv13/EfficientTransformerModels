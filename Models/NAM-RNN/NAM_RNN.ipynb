{
  "cells": [
    {
      "cell_type": "code",
      "execution_count": 1,
      "metadata": {
        "colab": {
          "base_uri": "https://localhost:8080/"
        },
        "id": "lNQQ6coff2B1",
        "outputId": "92e911f9-7831-46f6-d2b7-9a6bf00d3424"
      },
      "outputs": [
        {
          "output_type": "stream",
          "name": "stdout",
          "text": [
            "Looking in indexes: https://pypi.org/simple, https://us-python.pkg.dev/colab-wheels/public/simple/\n",
            "Collecting yfinance\n",
            "  Downloading yfinance-0.2.12-py2.py3-none-any.whl (59 kB)\n",
            "\u001b[2K     \u001b[90m━━━━━━━━━━━━━━━━━━━━━━━━━━━━━━━━━━━━━━━━\u001b[0m \u001b[32m59.2/59.2 KB\u001b[0m \u001b[31m1.8 MB/s\u001b[0m eta \u001b[36m0:00:00\u001b[0m\n",
            "\u001b[?25hCollecting cryptography>=3.3.2\n",
            "  Downloading cryptography-39.0.1-cp36-abi3-manylinux_2_28_x86_64.whl (4.2 MB)\n",
            "\u001b[2K     \u001b[90m━━━━━━━━━━━━━━━━━━━━━━━━━━━━━━━━━━━━━━━━\u001b[0m \u001b[32m4.2/4.2 MB\u001b[0m \u001b[31m24.9 MB/s\u001b[0m eta \u001b[36m0:00:00\u001b[0m\n",
            "\u001b[?25hCollecting beautifulsoup4>=4.11.1\n",
            "  Downloading beautifulsoup4-4.11.2-py3-none-any.whl (129 kB)\n",
            "\u001b[2K     \u001b[90m━━━━━━━━━━━━━━━━━━━━━━━━━━━━━━━━━━━━━━\u001b[0m \u001b[32m129.4/129.4 KB\u001b[0m \u001b[31m12.7 MB/s\u001b[0m eta \u001b[36m0:00:00\u001b[0m\n",
            "\u001b[?25hCollecting requests>=2.26\n",
            "  Downloading requests-2.28.2-py3-none-any.whl (62 kB)\n",
            "\u001b[2K     \u001b[90m━━━━━━━━━━━━━━━━━━━━━━━━━━━━━━━━━━━━━━━━\u001b[0m \u001b[32m62.8/62.8 KB\u001b[0m \u001b[31m4.2 MB/s\u001b[0m eta \u001b[36m0:00:00\u001b[0m\n",
            "\u001b[?25hRequirement already satisfied: lxml>=4.9.1 in /usr/local/lib/python3.8/dist-packages (from yfinance) (4.9.2)\n",
            "Requirement already satisfied: numpy>=1.16.5 in /usr/local/lib/python3.8/dist-packages (from yfinance) (1.21.6)\n",
            "Collecting html5lib>=1.1\n",
            "  Downloading html5lib-1.1-py2.py3-none-any.whl (112 kB)\n",
            "\u001b[2K     \u001b[90m━━━━━━━━━━━━━━━━━━━━━━━━━━━━━━━━━━━━━━━\u001b[0m \u001b[32m112.2/112.2 KB\u001b[0m \u001b[31m9.8 MB/s\u001b[0m eta \u001b[36m0:00:00\u001b[0m\n",
            "\u001b[?25hRequirement already satisfied: pytz>=2022.5 in /usr/local/lib/python3.8/dist-packages (from yfinance) (2022.7.1)\n",
            "Requirement already satisfied: pandas>=1.3.0 in /usr/local/lib/python3.8/dist-packages (from yfinance) (1.3.5)\n",
            "Collecting frozendict>=2.3.4\n",
            "  Downloading frozendict-2.3.5-cp38-cp38-manylinux_2_17_x86_64.manylinux2014_x86_64.whl (111 kB)\n",
            "\u001b[2K     \u001b[90m━━━━━━━━━━━━━━━━━━━━━━━━━━━━━━━━━━━━━━\u001b[0m \u001b[32m111.2/111.2 KB\u001b[0m \u001b[31m10.5 MB/s\u001b[0m eta \u001b[36m0:00:00\u001b[0m\n",
            "\u001b[?25hRequirement already satisfied: appdirs>=1.4.4 in /usr/local/lib/python3.8/dist-packages (from yfinance) (1.4.4)\n",
            "Requirement already satisfied: multitasking>=0.0.7 in /usr/local/lib/python3.8/dist-packages (from yfinance) (0.0.11)\n",
            "Collecting soupsieve>1.2\n",
            "  Downloading soupsieve-2.4-py3-none-any.whl (37 kB)\n",
            "Requirement already satisfied: cffi>=1.12 in /usr/local/lib/python3.8/dist-packages (from cryptography>=3.3.2->yfinance) (1.15.1)\n",
            "Requirement already satisfied: six>=1.9 in /usr/local/lib/python3.8/dist-packages (from html5lib>=1.1->yfinance) (1.15.0)\n",
            "Requirement already satisfied: webencodings in /usr/local/lib/python3.8/dist-packages (from html5lib>=1.1->yfinance) (0.5.1)\n",
            "Requirement already satisfied: python-dateutil>=2.7.3 in /usr/local/lib/python3.8/dist-packages (from pandas>=1.3.0->yfinance) (2.8.2)\n",
            "Requirement already satisfied: charset-normalizer<4,>=2 in /usr/local/lib/python3.8/dist-packages (from requests>=2.26->yfinance) (3.0.1)\n",
            "Requirement already satisfied: idna<4,>=2.5 in /usr/local/lib/python3.8/dist-packages (from requests>=2.26->yfinance) (2.10)\n",
            "Requirement already satisfied: certifi>=2017.4.17 in /usr/local/lib/python3.8/dist-packages (from requests>=2.26->yfinance) (2022.12.7)\n",
            "Requirement already satisfied: urllib3<1.27,>=1.21.1 in /usr/local/lib/python3.8/dist-packages (from requests>=2.26->yfinance) (1.24.3)\n",
            "Requirement already satisfied: pycparser in /usr/local/lib/python3.8/dist-packages (from cffi>=1.12->cryptography>=3.3.2->yfinance) (2.21)\n",
            "Installing collected packages: soupsieve, requests, html5lib, frozendict, cryptography, beautifulsoup4, yfinance\n",
            "  Attempting uninstall: requests\n",
            "    Found existing installation: requests 2.25.1\n",
            "    Uninstalling requests-2.25.1:\n",
            "      Successfully uninstalled requests-2.25.1\n",
            "  Attempting uninstall: html5lib\n",
            "    Found existing installation: html5lib 1.0.1\n",
            "    Uninstalling html5lib-1.0.1:\n",
            "      Successfully uninstalled html5lib-1.0.1\n",
            "  Attempting uninstall: beautifulsoup4\n",
            "    Found existing installation: beautifulsoup4 4.6.3\n",
            "    Uninstalling beautifulsoup4-4.6.3:\n",
            "      Successfully uninstalled beautifulsoup4-4.6.3\n",
            "Successfully installed beautifulsoup4-4.11.2 cryptography-39.0.1 frozendict-2.3.5 html5lib-1.1 requests-2.28.2 soupsieve-2.4 yfinance-0.2.12\n"
          ]
        }
      ],
      "source": [
        "# This code installs the yfinance library, which allows you to access financial data from Yahoo Finance\n",
        "!pip install yfinance"
      ]
    },
    {
      "cell_type": "code",
      "execution_count": 2,
      "metadata": {
        "id": "Bi9vjAsPfWdY",
        "colab": {
          "base_uri": "https://localhost:8080/",
          "height": 472
        },
        "outputId": "6bfff047-7d13-4ab5-acd6-effcb3fd5df5"
      },
      "outputs": [
        {
          "output_type": "stream",
          "name": "stdout",
          "text": [
            "[*********************100%***********************]  4 of 4 completed\n"
          ]
        },
        {
          "output_type": "execute_result",
          "data": {
            "text/plain": [
              "                  CL=F        XOM        ^GSPC   ^TNX\n",
              "Date                                                 \n",
              "2007-06-01   65.080002  84.220001  1536.339966  4.956\n",
              "2007-06-04   66.209999  84.220001  1539.180054  4.929\n",
              "2007-06-05   65.610001  84.260002  1530.949951  4.976\n",
              "2007-06-06   65.959999  83.620003  1517.380005  4.970\n",
              "2007-06-07   66.930000  81.959999  1490.719971  5.099\n",
              "...                ...        ...          ...    ...\n",
              "2022-06-24  107.620003  86.900002  3911.739990  3.125\n",
              "2022-06-27  109.570000  89.029999  3900.110107  3.194\n",
              "2022-06-28  111.760002  91.500000  3821.550049  3.206\n",
              "2022-06-29  109.779999  88.120003  3818.830078  3.093\n",
              "2022-06-30  105.760002  85.639999  3785.379883  2.972\n",
              "\n",
              "[3800 rows x 4 columns]"
            ],
            "text/html": [
              "\n",
              "  <div id=\"df-0190a848-749a-4ba0-8081-b0d6c91b3187\">\n",
              "    <div class=\"colab-df-container\">\n",
              "      <div>\n",
              "<style scoped>\n",
              "    .dataframe tbody tr th:only-of-type {\n",
              "        vertical-align: middle;\n",
              "    }\n",
              "\n",
              "    .dataframe tbody tr th {\n",
              "        vertical-align: top;\n",
              "    }\n",
              "\n",
              "    .dataframe thead th {\n",
              "        text-align: right;\n",
              "    }\n",
              "</style>\n",
              "<table border=\"1\" class=\"dataframe\">\n",
              "  <thead>\n",
              "    <tr style=\"text-align: right;\">\n",
              "      <th></th>\n",
              "      <th>CL=F</th>\n",
              "      <th>XOM</th>\n",
              "      <th>^GSPC</th>\n",
              "      <th>^TNX</th>\n",
              "    </tr>\n",
              "    <tr>\n",
              "      <th>Date</th>\n",
              "      <th></th>\n",
              "      <th></th>\n",
              "      <th></th>\n",
              "      <th></th>\n",
              "    </tr>\n",
              "  </thead>\n",
              "  <tbody>\n",
              "    <tr>\n",
              "      <th>2007-06-01</th>\n",
              "      <td>65.080002</td>\n",
              "      <td>84.220001</td>\n",
              "      <td>1536.339966</td>\n",
              "      <td>4.956</td>\n",
              "    </tr>\n",
              "    <tr>\n",
              "      <th>2007-06-04</th>\n",
              "      <td>66.209999</td>\n",
              "      <td>84.220001</td>\n",
              "      <td>1539.180054</td>\n",
              "      <td>4.929</td>\n",
              "    </tr>\n",
              "    <tr>\n",
              "      <th>2007-06-05</th>\n",
              "      <td>65.610001</td>\n",
              "      <td>84.260002</td>\n",
              "      <td>1530.949951</td>\n",
              "      <td>4.976</td>\n",
              "    </tr>\n",
              "    <tr>\n",
              "      <th>2007-06-06</th>\n",
              "      <td>65.959999</td>\n",
              "      <td>83.620003</td>\n",
              "      <td>1517.380005</td>\n",
              "      <td>4.970</td>\n",
              "    </tr>\n",
              "    <tr>\n",
              "      <th>2007-06-07</th>\n",
              "      <td>66.930000</td>\n",
              "      <td>81.959999</td>\n",
              "      <td>1490.719971</td>\n",
              "      <td>5.099</td>\n",
              "    </tr>\n",
              "    <tr>\n",
              "      <th>...</th>\n",
              "      <td>...</td>\n",
              "      <td>...</td>\n",
              "      <td>...</td>\n",
              "      <td>...</td>\n",
              "    </tr>\n",
              "    <tr>\n",
              "      <th>2022-06-24</th>\n",
              "      <td>107.620003</td>\n",
              "      <td>86.900002</td>\n",
              "      <td>3911.739990</td>\n",
              "      <td>3.125</td>\n",
              "    </tr>\n",
              "    <tr>\n",
              "      <th>2022-06-27</th>\n",
              "      <td>109.570000</td>\n",
              "      <td>89.029999</td>\n",
              "      <td>3900.110107</td>\n",
              "      <td>3.194</td>\n",
              "    </tr>\n",
              "    <tr>\n",
              "      <th>2022-06-28</th>\n",
              "      <td>111.760002</td>\n",
              "      <td>91.500000</td>\n",
              "      <td>3821.550049</td>\n",
              "      <td>3.206</td>\n",
              "    </tr>\n",
              "    <tr>\n",
              "      <th>2022-06-29</th>\n",
              "      <td>109.779999</td>\n",
              "      <td>88.120003</td>\n",
              "      <td>3818.830078</td>\n",
              "      <td>3.093</td>\n",
              "    </tr>\n",
              "    <tr>\n",
              "      <th>2022-06-30</th>\n",
              "      <td>105.760002</td>\n",
              "      <td>85.639999</td>\n",
              "      <td>3785.379883</td>\n",
              "      <td>2.972</td>\n",
              "    </tr>\n",
              "  </tbody>\n",
              "</table>\n",
              "<p>3800 rows × 4 columns</p>\n",
              "</div>\n",
              "      <button class=\"colab-df-convert\" onclick=\"convertToInteractive('df-0190a848-749a-4ba0-8081-b0d6c91b3187')\"\n",
              "              title=\"Convert this dataframe to an interactive table.\"\n",
              "              style=\"display:none;\">\n",
              "        \n",
              "  <svg xmlns=\"http://www.w3.org/2000/svg\" height=\"24px\"viewBox=\"0 0 24 24\"\n",
              "       width=\"24px\">\n",
              "    <path d=\"M0 0h24v24H0V0z\" fill=\"none\"/>\n",
              "    <path d=\"M18.56 5.44l.94 2.06.94-2.06 2.06-.94-2.06-.94-.94-2.06-.94 2.06-2.06.94zm-11 1L8.5 8.5l.94-2.06 2.06-.94-2.06-.94L8.5 2.5l-.94 2.06-2.06.94zm10 10l.94 2.06.94-2.06 2.06-.94-2.06-.94-.94-2.06-.94 2.06-2.06.94z\"/><path d=\"M17.41 7.96l-1.37-1.37c-.4-.4-.92-.59-1.43-.59-.52 0-1.04.2-1.43.59L10.3 9.45l-7.72 7.72c-.78.78-.78 2.05 0 2.83L4 21.41c.39.39.9.59 1.41.59.51 0 1.02-.2 1.41-.59l7.78-7.78 2.81-2.81c.8-.78.8-2.07 0-2.86zM5.41 20L4 18.59l7.72-7.72 1.47 1.35L5.41 20z\"/>\n",
              "  </svg>\n",
              "      </button>\n",
              "      \n",
              "  <style>\n",
              "    .colab-df-container {\n",
              "      display:flex;\n",
              "      flex-wrap:wrap;\n",
              "      gap: 12px;\n",
              "    }\n",
              "\n",
              "    .colab-df-convert {\n",
              "      background-color: #E8F0FE;\n",
              "      border: none;\n",
              "      border-radius: 50%;\n",
              "      cursor: pointer;\n",
              "      display: none;\n",
              "      fill: #1967D2;\n",
              "      height: 32px;\n",
              "      padding: 0 0 0 0;\n",
              "      width: 32px;\n",
              "    }\n",
              "\n",
              "    .colab-df-convert:hover {\n",
              "      background-color: #E2EBFA;\n",
              "      box-shadow: 0px 1px 2px rgba(60, 64, 67, 0.3), 0px 1px 3px 1px rgba(60, 64, 67, 0.15);\n",
              "      fill: #174EA6;\n",
              "    }\n",
              "\n",
              "    [theme=dark] .colab-df-convert {\n",
              "      background-color: #3B4455;\n",
              "      fill: #D2E3FC;\n",
              "    }\n",
              "\n",
              "    [theme=dark] .colab-df-convert:hover {\n",
              "      background-color: #434B5C;\n",
              "      box-shadow: 0px 1px 3px 1px rgba(0, 0, 0, 0.15);\n",
              "      filter: drop-shadow(0px 1px 2px rgba(0, 0, 0, 0.3));\n",
              "      fill: #FFFFFF;\n",
              "    }\n",
              "  </style>\n",
              "\n",
              "      <script>\n",
              "        const buttonEl =\n",
              "          document.querySelector('#df-0190a848-749a-4ba0-8081-b0d6c91b3187 button.colab-df-convert');\n",
              "        buttonEl.style.display =\n",
              "          google.colab.kernel.accessAllowed ? 'block' : 'none';\n",
              "\n",
              "        async function convertToInteractive(key) {\n",
              "          const element = document.querySelector('#df-0190a848-749a-4ba0-8081-b0d6c91b3187');\n",
              "          const dataTable =\n",
              "            await google.colab.kernel.invokeFunction('convertToInteractive',\n",
              "                                                     [key], {});\n",
              "          if (!dataTable) return;\n",
              "\n",
              "          const docLinkHtml = 'Like what you see? Visit the ' +\n",
              "            '<a target=\"_blank\" href=https://colab.research.google.com/notebooks/data_table.ipynb>data table notebook</a>'\n",
              "            + ' to learn more about interactive tables.';\n",
              "          element.innerHTML = '';\n",
              "          dataTable['output_type'] = 'display_data';\n",
              "          await google.colab.output.renderOutput(dataTable, element);\n",
              "          const docLink = document.createElement('div');\n",
              "          docLink.innerHTML = docLinkHtml;\n",
              "          element.appendChild(docLink);\n",
              "        }\n",
              "      </script>\n",
              "    </div>\n",
              "  </div>\n",
              "  "
            ]
          },
          "metadata": {},
          "execution_count": 2
        }
      ],
      "source": [
        "# Import the yfinance library and assign it to the alias 'yf'\n",
        "import yfinance as yf\n",
        "\n",
        "# Create a list of tickers for the stocks you want to retrieve data for\n",
        "list_tickers = ['CL=F','^GSPC', '^TNX', 'XOM']\n",
        "\n",
        "# Use the Tickers() function from yfinance to create an object for each ticker in the list\n",
        "tickers = yf.Tickers(list_tickers)\n",
        "\n",
        "# Use the download() function from yfinance to download the stock data for the specified date range\n",
        "data = yf.download(list_tickers,  start=\"2007-06-01\", end=\"2022-07-01\")\n",
        "\n",
        "# Extract the 'Close' column from the dataframe\n",
        "data = data['Close']\n",
        "\n",
        "# Print the dataframe\n",
        "data\n"
      ]
    },
    {
      "cell_type": "code",
      "execution_count": 3,
      "metadata": {
        "id": "cGXTPRQKM_f5",
        "colab": {
          "base_uri": "https://localhost:8080/"
        },
        "outputId": "a0a19890-7f09-4b25-ef1d-9c144456b9e0"
      },
      "outputs": [
        {
          "output_type": "execute_result",
          "data": {
            "text/plain": [
              "False"
            ]
          },
          "metadata": {},
          "execution_count": 3
        }
      ],
      "source": [
        "# Remove all rows with missing values (NaN) from the dataframe\n",
        "data = data.dropna()\n",
        "\n",
        "# Check if the dataframe still contains any missing values\n",
        "# returns False if there is no missing values\n",
        "data.isnull().values.any()"
      ]
    },
    {
      "cell_type": "code",
      "execution_count": 4,
      "metadata": {
        "id": "TtEm-anjNBaJ"
      },
      "outputs": [],
      "source": [
        "# Select specific columns from the dataframe\n",
        "data = data[['CL=F','^GSPC', '^TNX', 'XOM']]\n",
        "\n",
        "# Import numpy and train_test_split function from sklearn\n",
        "import numpy as np\n",
        "from sklearn.model_selection import train_test_split\n",
        "\n",
        "# Split the data into a training and test set, with a 80/20 split\n",
        "# test_size = 0.2 means 20% of the data will be used for testing\n",
        "training_set, test_set = train_test_split(data, test_size=0.2)\n",
        "\n",
        "# Convert the training and test sets to numpy arrays\n",
        "training_set = training_set.values\n",
        "test_set = test_set.values"
      ]
    },
    {
      "cell_type": "code",
      "execution_count": 5,
      "metadata": {
        "id": "XXLlYj9co7MI"
      },
      "outputs": [],
      "source": [
        "# Import the StandardScaler class from the sklearn.preprocessing module\n",
        "from sklearn.preprocessing import StandardScaler\n",
        "\n",
        "# Create an instance of the StandardScaler class\n",
        "sc = StandardScaler()\n",
        "\n",
        "# Fit the StandardScaler to the training set and transform it\n",
        "# This centers and scales the data so that the mean is 0 and the standard deviation is 1\n",
        "training_set_scaled = sc.fit_transform(training_set)\n",
        "\n",
        "# Apply the same scaling to the test set\n",
        "test_set_scaled = sc.transform(test_set)"
      ]
    },
    {
      "cell_type": "code",
      "execution_count": 6,
      "metadata": {
        "id": "MUoB_JUerKxp",
        "colab": {
          "base_uri": "https://localhost:8080/"
        },
        "outputId": "daba4173-5328-4f95-fcf0-61e254a6feb3"
      },
      "outputs": [
        {
          "output_type": "execute_result",
          "data": {
            "text/plain": [
              "(759, 4)"
            ]
          },
          "metadata": {},
          "execution_count": 6
        }
      ],
      "source": [
        "test_set_scaled.shape"
      ]
    },
    {
      "cell_type": "code",
      "execution_count": 7,
      "metadata": {
        "id": "dT_QILAlnyK-",
        "colab": {
          "base_uri": "https://localhost:8080/"
        },
        "outputId": "b01da6a7-dc5f-4e5e-9bf8-ded5a49787f9"
      },
      "outputs": [
        {
          "output_type": "execute_result",
          "data": {
            "text/plain": [
              "(array([[ 0.96385071, -0.49364843, -0.33915318],\n",
              "        [ 1.00675789,  2.37877885,  0.24177319],\n",
              "        [ 1.09551718, -0.90656843, -0.44252887],\n",
              "        ...,\n",
              "        [ 1.44382364, -0.49016939,  0.42829902],\n",
              "        [ 0.8902352 , -0.59486588, -0.76164517],\n",
              "        [ 1.53132101, -0.79151557,  1.25979912]]),\n",
              " array([1.04155989, 0.52594696, 0.09755852, ..., 0.69969343, 0.85796492,\n",
              "        0.84671034]))"
            ]
          },
          "metadata": {},
          "execution_count": 7
        }
      ],
      "source": [
        "# Extract all columns from the training set except for the last column and assign to X_train\n",
        "X_train = training_set_scaled[:,:-1]\n",
        "# Extract the last column from the training set and assign to y_train\n",
        "y_train = training_set_scaled[:,-1]\n",
        "X_train, y_train"
      ]
    },
    {
      "cell_type": "code",
      "execution_count": 8,
      "metadata": {
        "id": "C88zPPBooHUU"
      },
      "outputs": [],
      "source": [
        "# Select all rows and all columns except for the last one in the test set to be used as the independent variables\n",
        "X_test = test_set_scaled[:,:-1]\n",
        "# Select all rows and only the last column in the test set to be used as the dependent variable\n",
        "y_test = test_set_scaled[:,-1]"
      ]
    },
    {
      "cell_type": "code",
      "execution_count": 9,
      "metadata": {
        "id": "X8oPCDvP0A7q"
      },
      "outputs": [],
      "source": [
        "import numpy as np\n",
        "X_train = X_train.reshape((X_train.shape[0], X_train.shape[1], 1))\n",
        "X_test = X_test.reshape((X_test.shape[0], X_test.shape[1], 1))"
      ]
    },
    {
      "cell_type": "code",
      "execution_count": 10,
      "metadata": {
        "id": "ZfBVtnyrzb5U"
      },
      "outputs": [],
      "source": [
        "from tensorflow import keras\n",
        "import numpy as np\n",
        "import tensorflow as tf"
      ]
    },
    {
      "cell_type": "code",
      "execution_count": 11,
      "metadata": {
        "id": "PGwsmFrRhXhO"
      },
      "outputs": [],
      "source": [
        "num_unique_vals = [len(np.unique(X_train[:, i])) for i in range(X_train.shape[1])]\n",
        "num_units = [min(1000, i * 2) for i in num_unique_vals]\n",
        "num_inputs = X_train.shape[-2]"
      ]
    },
    {
      "cell_type": "code",
      "execution_count": 13,
      "metadata": {
        "id": "01JjpcbbhInp"
      },
      "outputs": [],
      "source": [
        "# Activation Functions\n",
        "def relu(x, weight, bias):\n",
        "  \"\"\"ReLU activation.\"\"\"\n",
        "  return tf.nn.relu(weight * (x - bias))\n",
        "\n",
        "def relu_n(x, n = 1):\n",
        "  \"\"\"ReLU activation clipped at n.\"\"\"\n",
        "  return tf.clip_by_value(x, 0, n)\n",
        "\n",
        "def exu(x, weight, bias):\n",
        "  \"\"\"ExU hidden unit modification.\"\"\"\n",
        "  return tf.exp(weight) * (x - bias)\n",
        "\n",
        "def create_nam_model(x_train,\n",
        "                     dropout,\n",
        "                     feature_dropout = 0.0,\n",
        "                     num_basis_functions = 1000,\n",
        "                     units_multiplier = 2,\n",
        "                     activation = 'exu',\n",
        "                     name_scope = 'model',\n",
        "                     shallow = False,\n",
        "                     trainable = True):\n",
        "  \"\"\"Create the NAM model.\"\"\"\n",
        "  num_unique_vals = [\n",
        "      len(np.unique(x_train[:, i])) for i in range(x_train.shape[1])\n",
        "  ]\n",
        "  num_units = [\n",
        "      min(num_basis_functions, i * units_multiplier) for i in num_unique_vals\n",
        "  ]\n",
        "  num_inputs = x_train.shape[-2]\n",
        "  nn_model = NAM(\n",
        "      num_inputs=num_inputs,\n",
        "      num_units=num_units,\n",
        "      dropout=np.float32(dropout),\n",
        "      feature_dropout=np.float32(feature_dropout),\n",
        "      activation=activation,\n",
        "      shallow=shallow,\n",
        "      trainable=trainable,\n",
        "      name_scope=name_scope)\n",
        "  return nn_model\n",
        "\n",
        "class ActivationLayer(tf.keras.layers.Layer):\n",
        "  \"\"\"Custom activation Layer to support ExU hidden units.\"\"\"\n",
        "\n",
        "  def __init__(self,\n",
        "               num_units,\n",
        "               name = None,\n",
        "               activation = 'exu',\n",
        "               trainable = True):\n",
        "    \"\"\"Initializes ActivationLayer hyperparameters.\n",
        "\n",
        "    Args:\n",
        "      num_units: Number of hidden units in the layer.\n",
        "      name: The name of the layer.\n",
        "      activation: Activation to use. The default value of `None` corresponds to\n",
        "        using the ReLU-1 activation with ExU units while `relu` would use\n",
        "        standard hidden units with ReLU activation.\n",
        "      trainable: Whether the layer parameters are trainable or not.\n",
        "    \"\"\"\n",
        "    super(ActivationLayer, self).__init__(trainable=trainable, name=name)\n",
        "    self.num_units = num_units\n",
        "    self._trainable = trainable\n",
        "    if activation == 'relu':\n",
        "      self._activation = relu\n",
        "      self._beta_initializer = 'glorot_uniform'\n",
        "    elif activation == 'exu':\n",
        "      self._activation = lambda x, weight, bias: relu_n(exu(x, weight, bias))\n",
        "      self._beta_initializer = tf.initializers.truncated_normal(\n",
        "          mean=4.0, stddev=0.5)\n",
        "    else:\n",
        "      raise ValueError('{} is not a valid activation'.format(activation))\n",
        "\n",
        "  def build(self, input_shape):\n",
        "    \"\"\"Builds the layer weight and bias parameters.\"\"\"\n",
        "    self._beta = self.add_weight(\n",
        "        name='beta',\n",
        "        shape=[input_shape[-1], self.num_units],\n",
        "        initializer=self._beta_initializer,\n",
        "        trainable=self._trainable)\n",
        "    self._c = self.add_weight(\n",
        "        name='c',\n",
        "        shape=[1, self.num_units],\n",
        "        initializer=tf.initializers.truncated_normal(stddev=0.5),\n",
        "        trainable=self._trainable)\n",
        "    super(ActivationLayer, self).build(input_shape)\n",
        "\n",
        "  @tf.function\n",
        "  def call(self, x):\n",
        "    \"\"\"Computes the output activations.\"\"\"\n",
        "    center = tf.tile(self._c, [tf.shape(x)[0], 1])\n",
        "    out = self._activation(x, self._beta, center)\n",
        "    return out\n",
        "\n",
        "\n",
        "class FeatureRNN(tf.keras.layers.Layer):\n",
        "\n",
        "  def __init__(self,\n",
        "               num_units,\n",
        "               dropout = 0.5,\n",
        "               trainable = True,\n",
        "               shallow = False,\n",
        "               feature_num = 0,\n",
        "               name_scope = 'model',\n",
        "               activation = 'exu'):\n",
        "\n",
        "    super(FeatureRNN, self).__init__()\n",
        "    self._num_units = num_units\n",
        "    self._dropout = dropout\n",
        "    self._trainable = trainable\n",
        "    self._tf_name_scope = name_scope\n",
        "    self._feature_num = feature_num\n",
        "    self._shallow = shallow\n",
        "    self._activation = activation\n",
        "\n",
        "  def build(self, input_shape):\n",
        "    \"\"\"Builds the feature net layers.\"\"\"\n",
        "    self.hidden_layers = [\n",
        "        ActivationLayer(\n",
        "            self._num_units,\n",
        "            trainable=self._trainable,\n",
        "            activation=self._activation,\n",
        "            name='activation_layer_{}'.format(self._feature_num))\n",
        "    ]\n",
        "    if not self._shallow:\n",
        "      self._h1 = tf.keras.layers.LSTM(\n",
        "          64,\n",
        "          return_sequences=True,\n",
        "          trainable=self._trainable,\n",
        "          name='h1_{}'.format(self._feature_num))\n",
        "      self._h2 = tf.keras.layers.LSTM(\n",
        "          32,\n",
        "          trainable=self._trainable,\n",
        "          name='h2_{}'.format(self._feature_num))\n",
        "      self.hidden_layers += [self._h1, self._h2]\n",
        "    self.linear = tf.keras.layers.Dense(\n",
        "        1,\n",
        "        use_bias=False,\n",
        "        trainable=self._trainable,\n",
        "        name='dense_{}'.format(self._feature_num),\n",
        "        kernel_initializer='glorot_uniform')\n",
        "    super(FeatureRNN, self).build(input_shape)\n",
        "\n",
        "  @tf.function\n",
        "  def call(self, x, training):\n",
        "    \"\"\"Computes FeatureNN output with either evaluation or training mode.\"\"\"\n",
        "    with tf.name_scope(self._tf_name_scope):\n",
        "      for l in self.hidden_layers:\n",
        "        x = tf.nn.dropout(\n",
        "            l(x), rate=0.05)\n",
        "      x = tf.squeeze(self.linear(x), axis=1)\n",
        "    return x\n",
        "\n",
        "\n",
        "class NAM(tf.keras.Model):\n",
        "\n",
        "  def __init__(self,\n",
        "               num_inputs,\n",
        "               num_units,\n",
        "               trainable = True,\n",
        "               shallow = False,\n",
        "               feature_dropout = 0.0,\n",
        "               dropout = 0.0,\n",
        "               **kwargs):\n",
        "\n",
        "    super(NAM, self).__init__()\n",
        "    self._num_inputs = num_inputs\n",
        "    if isinstance(num_units, list):\n",
        "      assert len(num_units) == num_inputs\n",
        "      self._num_units = num_units\n",
        "    elif isinstance(num_units, int):\n",
        "      self._num_units = [num_units for _ in range(self._num_inputs)]\n",
        "    self._trainable = trainable\n",
        "    self._shallow = shallow\n",
        "    self._feature_dropout = feature_dropout\n",
        "    self._dropout = dropout\n",
        "    self._kwargs = kwargs\n",
        "\n",
        "  def build(self, input_shape):\n",
        "    self.feature_rnns = [None] * self._num_inputs\n",
        "    for i in range(self._num_inputs):\n",
        "      self.feature_rnns[i] = FeatureRNN(\n",
        "          num_units=self._num_units[i],\n",
        "          dropout=self._dropout,\n",
        "          trainable=self._trainable,\n",
        "          shallow=self._shallow,\n",
        "          feature_num=i,\n",
        "          **self._kwargs)\n",
        "    self._bias = self.add_weight(\n",
        "        name='bias',\n",
        "        initializer=tf.keras.initializers.Zeros(),\n",
        "        shape=(1,),\n",
        "        trainable=self._trainable)\n",
        "    self._true = tf.constant(True, dtype=tf.bool)\n",
        "    self._false = tf.constant(False, dtype=tf.bool)\n",
        "\n",
        "  def call(self, x, training = True):\n",
        "    \"\"\"Computes NAM output by adding the outputs of individual feature nets.\"\"\"\n",
        "    individual_outputs = self.calc_outputs(x, training=training)\n",
        "    stacked_out = tf.stack(individual_outputs, axis=-1)\n",
        "    training = self._true if training else self._false\n",
        "    dropout_out = tf.nn.dropout(\n",
        "        stacked_out,\n",
        "        rate=tf.cond(training, lambda: self._feature_dropout, lambda: 0.0))\n",
        "    out = tf.reduce_sum(dropout_out, axis=-1)\n",
        "    return out + self._bias\n",
        "\n",
        "  def _name_scope(self):\n",
        "    \"\"\"Overrides the default function to fix name_scope for bias.\"\"\"\n",
        "    tf_name_scope = self._kwargs.get('name_scope', None)\n",
        "    name_scope = super(NAM, self)._name_scope()\n",
        "    if tf_name_scope:\n",
        "      return tf_name_scope + '/' + name_scope\n",
        "    else:\n",
        "      return name_scope\n",
        "\n",
        "  def calc_outputs(self, x, training = True):\n",
        "    \"\"\"Returns the output computed by each feature net.\"\"\"\n",
        "    training = self._true if training else self._false\n",
        "    list_x = tf.split(x, self._num_inputs, axis=-2)\n",
        "    return [\n",
        "        self.feature_rnns[i](x_i, training=training)\n",
        "        for i, x_i in enumerate(list_x)\n",
        "    ]\n",
        "  \n",
        "  def score(self, x, y):\n",
        "        # Compute model performance metric\n",
        "        y_pred = self.predict(x)\n",
        "        return np.mean(y_pred == y)  # Example metric: mean accuracy"
      ]
    },
    {
      "cell_type": "code",
      "execution_count": 14,
      "metadata": {
        "id": "QoZ24BtNNF68",
        "colab": {
          "base_uri": "https://localhost:8080/"
        },
        "outputId": "1b7b9d28-2480-43b9-fda2-7990821d6338"
      },
      "outputs": [
        {
          "output_type": "stream",
          "name": "stdout",
          "text": [
            "Model: \"nam\"\n",
            "_________________________________________________________________\n",
            " Layer (type)                Output Shape              Param #   \n",
            "=================================================================\n",
            " feature_rnn (FeatureRNN)    multiple                  45600     \n",
            "                                                                 \n",
            " feature_rnn_1 (FeatureRNN)  multiple                  45600     \n",
            "                                                                 \n",
            " feature_rnn_2 (FeatureRNN)  multiple                  45600     \n",
            "                                                                 \n",
            "=================================================================\n",
            "Total params: 136,801\n",
            "Trainable params: 136,801\n",
            "Non-trainable params: 0\n",
            "_________________________________________________________________\n"
          ]
        }
      ],
      "source": [
        "tf.compat.v1.reset_default_graph()\n",
        "namrnn_model = create_nam_model(\n",
        "    x_train=X_train,\n",
        "    dropout=0.0,\n",
        "    num_basis_functions=64,\n",
        "    activation='relu',\n",
        "    trainable=True,\n",
        "    shallow=False,\n",
        "    name_scope='model')\n",
        "\n",
        "_ = namrnn_model(X_train[:1])\n",
        "namrnn_model.summary()"
      ]
    },
    {
      "cell_type": "code",
      "execution_count": 15,
      "metadata": {
        "id": "vEvoLPhJzthp"
      },
      "outputs": [],
      "source": [
        "namrnn_model.compile(optimizer=tf.keras.optimizers.Adam(learning_rate=0.001), \n",
        "                    loss= tf.keras.losses.MeanSquaredError(),)"
      ]
    },
    {
      "cell_type": "code",
      "execution_count": 16,
      "metadata": {
        "colab": {
          "base_uri": "https://localhost:8080/"
        },
        "id": "bYVAtaLxztem",
        "outputId": "6efea8cd-1fc2-462d-dbac-8f4d351f70e6"
      },
      "outputs": [
        {
          "output_type": "stream",
          "name": "stdout",
          "text": [
            "Epoch 1/100\n"
          ]
        },
        {
          "output_type": "stream",
          "name": "stderr",
          "text": [
            "WARNING:tensorflow:From /usr/local/lib/python3.8/dist-packages/tensorflow/python/autograph/pyct/static_analysis/liveness.py:83: Analyzer.lamba_check (from tensorflow.python.autograph.pyct.static_analysis.liveness) is deprecated and will be removed after 2023-09-23.\n",
            "Instructions for updating:\n",
            "Lambda fuctions will be no more assumed to be used in the statement where they are used, or at least in the same block. https://github.com/tensorflow/tensorflow/issues/56089\n"
          ]
        },
        {
          "output_type": "stream",
          "name": "stdout",
          "text": [
            "95/95 [==============================] - 15s 16ms/step - loss: 0.2422\n",
            "Epoch 2/100\n",
            "95/95 [==============================] - 2s 17ms/step - loss: 0.1534\n",
            "Epoch 3/100\n",
            "95/95 [==============================] - 2s 20ms/step - loss: 0.1308\n",
            "Epoch 4/100\n",
            "95/95 [==============================] - 2s 23ms/step - loss: 0.1210\n",
            "Epoch 5/100\n",
            "95/95 [==============================] - 2s 17ms/step - loss: 0.1183\n",
            "Epoch 6/100\n",
            "95/95 [==============================] - 2s 17ms/step - loss: 0.1105\n",
            "Epoch 7/100\n",
            "95/95 [==============================] - 2s 16ms/step - loss: 0.1091\n",
            "Epoch 8/100\n",
            "95/95 [==============================] - 2s 16ms/step - loss: 0.1079\n",
            "Epoch 9/100\n",
            "95/95 [==============================] - 2s 16ms/step - loss: 0.1055\n",
            "Epoch 10/100\n",
            "95/95 [==============================] - 2s 16ms/step - loss: 0.1057\n",
            "Epoch 11/100\n",
            "95/95 [==============================] - 2s 24ms/step - loss: 0.1030\n",
            "Epoch 12/100\n",
            "95/95 [==============================] - 2s 18ms/step - loss: 0.1022\n",
            "Epoch 13/100\n",
            "95/95 [==============================] - 2s 17ms/step - loss: 0.0977\n",
            "Epoch 14/100\n",
            "95/95 [==============================] - 2s 16ms/step - loss: 0.0998\n",
            "Epoch 15/100\n",
            "95/95 [==============================] - 2s 16ms/step - loss: 0.0991\n",
            "Epoch 16/100\n",
            "95/95 [==============================] - 2s 17ms/step - loss: 0.1008\n",
            "Epoch 17/100\n",
            "95/95 [==============================] - 2s 16ms/step - loss: 0.0989\n",
            "Epoch 18/100\n",
            "95/95 [==============================] - 2s 19ms/step - loss: 0.0959\n",
            "Epoch 19/100\n",
            "95/95 [==============================] - 2s 22ms/step - loss: 0.0960\n",
            "Epoch 20/100\n",
            "95/95 [==============================] - 2s 17ms/step - loss: 0.0981\n",
            "Epoch 21/100\n",
            "95/95 [==============================] - 2s 17ms/step - loss: 0.0954\n",
            "Epoch 22/100\n",
            "95/95 [==============================] - 2s 16ms/step - loss: 0.1011\n",
            "Epoch 23/100\n",
            "95/95 [==============================] - 2s 17ms/step - loss: 0.0984\n",
            "Epoch 24/100\n",
            "95/95 [==============================] - 2s 17ms/step - loss: 0.0912\n",
            "Epoch 25/100\n",
            "95/95 [==============================] - 2s 18ms/step - loss: 0.0956\n",
            "Epoch 26/100\n",
            "95/95 [==============================] - 2s 24ms/step - loss: 0.0942\n",
            "Epoch 27/100\n",
            "95/95 [==============================] - 2s 17ms/step - loss: 0.0945\n",
            "Epoch 28/100\n",
            "95/95 [==============================] - 2s 17ms/step - loss: 0.0942\n",
            "Epoch 29/100\n",
            "95/95 [==============================] - 2s 17ms/step - loss: 0.0924\n",
            "Epoch 30/100\n",
            "95/95 [==============================] - 2s 16ms/step - loss: 0.0913\n",
            "Epoch 31/100\n",
            "95/95 [==============================] - 2s 17ms/step - loss: 0.0929\n",
            "Epoch 32/100\n",
            "95/95 [==============================] - 2s 17ms/step - loss: 0.0897\n",
            "Epoch 33/100\n",
            "95/95 [==============================] - 2s 23ms/step - loss: 0.0908\n",
            "Epoch 34/100\n",
            "95/95 [==============================] - 2s 19ms/step - loss: 0.0886\n",
            "Epoch 35/100\n",
            "95/95 [==============================] - 2s 17ms/step - loss: 0.0909\n",
            "Epoch 36/100\n",
            "95/95 [==============================] - 2s 17ms/step - loss: 0.0921\n",
            "Epoch 37/100\n",
            "95/95 [==============================] - 2s 17ms/step - loss: 0.0902\n",
            "Epoch 38/100\n",
            "95/95 [==============================] - 2s 17ms/step - loss: 0.0938\n",
            "Epoch 39/100\n",
            "95/95 [==============================] - 2s 25ms/step - loss: 0.0921\n",
            "Epoch 40/100\n",
            "95/95 [==============================] - 4s 43ms/step - loss: 0.0893\n",
            "Epoch 41/100\n",
            "95/95 [==============================] - 2s 17ms/step - loss: 0.0922\n",
            "Epoch 42/100\n",
            "95/95 [==============================] - 2s 17ms/step - loss: 0.0896\n",
            "Epoch 43/100\n",
            "95/95 [==============================] - 2s 17ms/step - loss: 0.0903\n",
            "Epoch 44/100\n",
            "95/95 [==============================] - 2s 17ms/step - loss: 0.0927\n",
            "Epoch 45/100\n",
            "95/95 [==============================] - 2s 18ms/step - loss: 0.0874\n",
            "Epoch 46/100\n",
            "95/95 [==============================] - 2s 23ms/step - loss: 0.0893\n",
            "Epoch 47/100\n",
            "95/95 [==============================] - 2s 22ms/step - loss: 0.0877\n",
            "Epoch 48/100\n",
            "95/95 [==============================] - 2s 19ms/step - loss: 0.0878\n",
            "Epoch 49/100\n",
            "95/95 [==============================] - 2s 18ms/step - loss: 0.0879\n",
            "Epoch 50/100\n",
            "95/95 [==============================] - 2s 18ms/step - loss: 0.0863\n",
            "Epoch 51/100\n",
            "95/95 [==============================] - 2s 18ms/step - loss: 0.0882\n",
            "Epoch 52/100\n",
            "95/95 [==============================] - 2s 19ms/step - loss: 0.0884\n",
            "Epoch 53/100\n",
            "95/95 [==============================] - 2s 25ms/step - loss: 0.0867\n",
            "Epoch 54/100\n",
            "95/95 [==============================] - 2s 19ms/step - loss: 0.0875\n",
            "Epoch 55/100\n",
            "95/95 [==============================] - 2s 17ms/step - loss: 0.0879\n",
            "Epoch 56/100\n",
            "95/95 [==============================] - 2s 18ms/step - loss: 0.0874\n",
            "Epoch 57/100\n",
            "95/95 [==============================] - 2s 17ms/step - loss: 0.0868\n",
            "Epoch 58/100\n",
            "95/95 [==============================] - 2s 17ms/step - loss: 0.0862\n",
            "Epoch 59/100\n",
            "95/95 [==============================] - 2s 17ms/step - loss: 0.0885\n",
            "Epoch 60/100\n",
            "95/95 [==============================] - 2s 21ms/step - loss: 0.0849\n",
            "Epoch 61/100\n",
            "95/95 [==============================] - 2s 21ms/step - loss: 0.0853\n",
            "Epoch 62/100\n",
            "95/95 [==============================] - 2s 17ms/step - loss: 0.0884\n",
            "Epoch 63/100\n",
            "95/95 [==============================] - 2s 16ms/step - loss: 0.0872\n",
            "Epoch 64/100\n",
            "95/95 [==============================] - 2s 17ms/step - loss: 0.0857\n",
            "Epoch 65/100\n",
            "95/95 [==============================] - 2s 18ms/step - loss: 0.0847\n",
            "Epoch 66/100\n",
            "95/95 [==============================] - 2s 18ms/step - loss: 0.0868\n",
            "Epoch 67/100\n",
            "95/95 [==============================] - 2s 22ms/step - loss: 0.0880\n",
            "Epoch 68/100\n",
            "95/95 [==============================] - 2s 23ms/step - loss: 0.0864\n",
            "Epoch 69/100\n",
            "95/95 [==============================] - 2s 18ms/step - loss: 0.0852\n",
            "Epoch 70/100\n",
            "95/95 [==============================] - 2s 17ms/step - loss: 0.0862\n",
            "Epoch 71/100\n",
            "95/95 [==============================] - 2s 17ms/step - loss: 0.0857\n",
            "Epoch 72/100\n",
            "95/95 [==============================] - 2s 18ms/step - loss: 0.0846\n",
            "Epoch 73/100\n",
            "95/95 [==============================] - 2s 18ms/step - loss: 0.0849\n",
            "Epoch 74/100\n",
            "95/95 [==============================] - 2s 20ms/step - loss: 0.0850\n",
            "Epoch 75/100\n",
            "95/95 [==============================] - 2s 23ms/step - loss: 0.0862\n",
            "Epoch 76/100\n",
            "95/95 [==============================] - 2s 17ms/step - loss: 0.0859\n",
            "Epoch 77/100\n",
            "95/95 [==============================] - 2s 18ms/step - loss: 0.0849\n",
            "Epoch 78/100\n",
            "95/95 [==============================] - 2s 18ms/step - loss: 0.0865\n",
            "Epoch 79/100\n",
            "95/95 [==============================] - 2s 19ms/step - loss: 0.0833\n",
            "Epoch 80/100\n",
            "95/95 [==============================] - 2s 18ms/step - loss: 0.0836\n",
            "Epoch 81/100\n",
            "95/95 [==============================] - 2s 22ms/step - loss: 0.0824\n",
            "Epoch 82/100\n",
            "95/95 [==============================] - 2s 23ms/step - loss: 0.0840\n",
            "Epoch 83/100\n",
            "95/95 [==============================] - 2s 18ms/step - loss: 0.0846\n",
            "Epoch 84/100\n",
            "95/95 [==============================] - 2s 19ms/step - loss: 0.0831\n",
            "Epoch 85/100\n",
            "95/95 [==============================] - 2s 18ms/step - loss: 0.0814\n",
            "Epoch 86/100\n",
            "95/95 [==============================] - 2s 18ms/step - loss: 0.0831\n",
            "Epoch 87/100\n",
            "95/95 [==============================] - 2s 18ms/step - loss: 0.0841\n",
            "Epoch 88/100\n",
            "95/95 [==============================] - 2s 23ms/step - loss: 0.0844\n",
            "Epoch 89/100\n",
            "95/95 [==============================] - 2s 21ms/step - loss: 0.0831\n",
            "Epoch 90/100\n",
            "95/95 [==============================] - 2s 18ms/step - loss: 0.0858\n",
            "Epoch 91/100\n",
            "95/95 [==============================] - 2s 17ms/step - loss: 0.0827\n",
            "Epoch 92/100\n",
            "95/95 [==============================] - 2s 18ms/step - loss: 0.0842\n",
            "Epoch 93/100\n",
            "95/95 [==============================] - 2s 18ms/step - loss: 0.0852\n",
            "Epoch 94/100\n",
            "95/95 [==============================] - 2s 18ms/step - loss: 0.0839\n",
            "Epoch 95/100\n",
            "95/95 [==============================] - 2s 24ms/step - loss: 0.0852\n",
            "Epoch 96/100\n",
            "95/95 [==============================] - 2s 22ms/step - loss: 0.0833\n",
            "Epoch 97/100\n",
            "95/95 [==============================] - 2s 19ms/step - loss: 0.0848\n",
            "Epoch 98/100\n",
            "95/95 [==============================] - 2s 19ms/step - loss: 0.0822\n",
            "Epoch 99/100\n",
            "95/95 [==============================] - 2s 18ms/step - loss: 0.0835\n",
            "Epoch 100/100\n",
            "95/95 [==============================] - 2s 19ms/step - loss: 0.0849\n"
          ]
        },
        {
          "output_type": "execute_result",
          "data": {
            "text/plain": [
              "<keras.callbacks.History at 0x7f10a1ab4490>"
            ]
          },
          "metadata": {},
          "execution_count": 16
        }
      ],
      "source": [
        "namrnn_model.fit(X_train, y_train, epochs = 100, batch_size = 32)"
      ]
    },
    {
      "cell_type": "code",
      "execution_count": 17,
      "metadata": {
        "colab": {
          "base_uri": "https://localhost:8080/"
        },
        "id": "6rPuaBL1ztb-",
        "outputId": "b97bb629-246c-4f9b-b164-a9c51199d2ec"
      },
      "outputs": [
        {
          "output_type": "stream",
          "name": "stdout",
          "text": [
            "24/24 [==============================] - 1s 8ms/step - loss: 0.0762\n"
          ]
        },
        {
          "output_type": "execute_result",
          "data": {
            "text/plain": [
              "0.07617073506116867"
            ]
          },
          "metadata": {},
          "execution_count": 17
        }
      ],
      "source": [
        "namrnn_model.evaluate(X_test,y_test)"
      ]
    },
    {
      "cell_type": "code",
      "execution_count": 18,
      "metadata": {
        "colab": {
          "base_uri": "https://localhost:8080/"
        },
        "id": "XRU5RG6eztIR",
        "outputId": "13e9fe21-9f48-4875-c798-fd2d80f68c6b"
      },
      "outputs": [
        {
          "output_type": "stream",
          "name": "stdout",
          "text": [
            "24/24 [==============================] - 1s 7ms/step\n",
            "y_test.shape= (759, 1) y_pred.shape= (759, 1)\n"
          ]
        }
      ],
      "source": [
        "predicted_stock_price = namrnn_model.predict(X_test)\n",
        "y_pred = predicted_stock_price\n",
        "y_test = np.reshape(y_test, (759,1))\n",
        "predicted_stock_price = np.reshape(predicted_stock_price, (759,1))\n",
        "print(\"y_test.shape=\",y_test.shape,\n",
        "      \"y_pred.shape=\",predicted_stock_price.shape)"
      ]
    },
    {
      "cell_type": "markdown",
      "source": [
        "Uncomment to code below only if you want to plot the real and predicted values. Otherwise you will see the normalized real and normalized predicted values"
      ],
      "metadata": {
        "id": "e8EvzzvTHPob"
      }
    },
    {
      "cell_type": "code",
      "source": [
        "# # Inverse scaling the training and test set\n",
        "# training_set_original = sc.inverse_transform(training_set_scaled)\n",
        "# test_set_original = sc.inverse_transform(test_set_scaled)\n",
        "\n",
        "# # Extracting the independent and dependent variables for the training set\n",
        "# # X_train contains all columns except the last column\n",
        "# X_train = training_set_original[:,:-1]\n",
        "# # y_train contains only the last column\n",
        "# y_train = training_set_original[:,-1]\n",
        "\n",
        "# # Extracting the independent and dependent variables for the test set\n",
        "# # X_test contains all columns except the last column\n",
        "# X_test = test_set_original[:,:-1]\n",
        "# # y_test contains only the last column\n",
        "# y_test = test_set_original[:,-1]\n",
        "\n",
        "# # Inverse scaling the predicted stock price\n",
        "# predicted_stock_price = y_pred*sc.scale_[-1]+sc.mean_[-1]"
      ],
      "metadata": {
        "id": "tFGZjfcN_H4f"
      },
      "execution_count": 19,
      "outputs": []
    },
    {
      "cell_type": "code",
      "execution_count": 20,
      "metadata": {
        "id": "aSSXa0Zr0TIp"
      },
      "outputs": [],
      "source": [
        "from sklearn import metrics as sk_metrics\n",
        "\n",
        "def rmse(y_true, y_pred):\n",
        "  \"\"\"Root mean squared error between true and predicted values.\"\"\"\n",
        "  return float(np.sqrt(sk_metrics.mean_squared_error(y_true, y_pred)))\n",
        "\n",
        "def mae(y_true, y_pred):\n",
        "  \"\"\"Mean Absolute Error between true and predicted values.\"\"\"\n",
        "  return float(sk_metrics.mean_absolute_error(y_true, y_pred)) \n",
        "def mse(y_true, y_pred):\n",
        "  \"\"\"Mean squared error between true and predicted values.\"\"\"\n",
        "  return float(sk_metrics.mean_squared_error(y_true, y_pred))\n",
        "\n",
        "def r2_score(y_true, y_pred):\n",
        "  \"\"\"R-squared score between true and predicted values.\"\"\"\n",
        "  return float(sk_metrics.r2_score(y_true, y_pred)) \n",
        "  \n",
        "def sigmoid(x):\n",
        "  \"\"\"Sigmoid function.\"\"\"\n",
        "  if isinstance(x, list):\n",
        "    x = np.array(x)\n",
        "  return np.where(x >= 0, 1 / (1 + np.exp(-x)), np.exp(x) / (1 + np.exp(x)))\n",
        "\n",
        "def calculate_metric(y_true,\n",
        "                     predictions,\n",
        "                     regression = True):\n",
        "  \"\"\"Calculates the evaluation metric.\"\"\"\n",
        "  if regression:\n",
        "    return rmse(y_true, predictions)\n",
        "  else:\n",
        "    return sk_metrics.roc_auc_score(y_true, sigmoid(predictions))"
      ]
    },
    {
      "cell_type": "code",
      "execution_count": 21,
      "metadata": {
        "colab": {
          "base_uri": "https://localhost:8080/"
        },
        "id": "zZxqgy6u0TjI",
        "outputId": "455fe761-0870-4b77-b8e4-5322661430f8"
      },
      "outputs": [
        {
          "output_type": "stream",
          "name": "stdout",
          "text": [
            "0.2784876866925208\n"
          ]
        }
      ],
      "source": [
        "test_metric = calculate_metric(\n",
        "    y_test, predicted_stock_price, regression=True)\n",
        "print(test_metric)"
      ]
    },
    {
      "cell_type": "code",
      "execution_count": 22,
      "metadata": {
        "colab": {
          "base_uri": "https://localhost:8080/",
          "height": 360
        },
        "id": "nTeeqlWB0aMS",
        "outputId": "074a8bb5-e0ae-4558-e5fe-67dd493122f4"
      },
      "outputs": [
        {
          "output_type": "display_data",
          "data": {
            "text/plain": [
              "<Figure size 720x360 with 1 Axes>"
            ],
            "image/png": "[encoded data removed]"
          },
          "metadata": {
            "needs_background": "light"
          }
        }
      ],
      "source": [
        "import matplotlib.pyplot as plt\n",
        "\n",
        "# Set the size of the plot figure to 10x5 inches\n",
        "plt.figure(figsize=(10, 5))\n",
        "# Show a grid on the plot\n",
        "plt.grid(visible=True, linestyle='-.') \n",
        "# Plot the actual stock prices in red\n",
        "plt.plot(y_test, color = 'red', label = 'Real Stock Price')\n",
        "# Plot the predicted stock prices in blue\n",
        "plt.plot(predicted_stock_price, color = 'blue', label = 'Predicted Stock Price')\n",
        "# Add a title to the plot\n",
        "plt.title('NAM-RNN Prediction', fontsize=20)\n",
        "# Add a label to the x-axis\n",
        "plt.xlabel('Time', fontsize=15)\n",
        "# Add a label to the y-axis\n",
        "plt.ylabel('Stock Price', fontsize=15)\n",
        "# Add a legend to the plot\n",
        "plt.legend(fontsize=15)\n",
        "# Set the limits of the y-axis to ensure all actual and predicted stock prices are visible\n",
        "plt.ylim(bottom=min(y_test) - (max(y_test) - min(y_test))*0.1, top=max(y_test) + (max(y_test) - min(y_test))*0.1)\n",
        "\n",
        "# Save the plot as a PNG file\n",
        "# plt.savefig(\"NAM-RNN.png\")\n",
        "\n",
        "plt.show()\n",
        "# from google.colab import files\n",
        "# plt.savefig('nam-rnn.png')\n",
        "# files.download('nam-rnn.png')"
      ]
    },
    {
      "cell_type": "code",
      "execution_count": 23,
      "metadata": {
        "colab": {
          "base_uri": "https://localhost:8080/"
        },
        "id": "jCPbGg1RsLdN",
        "outputId": "d5788eae-df96-4329-c4f8-6efc9c040858"
      },
      "outputs": [
        {
          "output_type": "stream",
          "name": "stdout",
          "text": [
            "95/95 [==============================] - 3s 29ms/step - loss: 0.2246\n",
            "24/24 [==============================] - 0s 15ms/step\n",
            "95/95 [==============================] - 3s 32ms/step - loss: 0.3395\n",
            "24/24 [==============================] - 0s 7ms/step\n",
            "95/95 [==============================] - 2s 18ms/step - loss: 0.3547\n",
            "24/24 [==============================] - 0s 7ms/step\n"
          ]
        }
      ],
      "source": [
        "import numpy as np\n",
        "from sklearn.metrics import r2_score\n",
        "\n",
        "y_pred = predicted_stock_price\n",
        "\n",
        "# Calculate the baseline performance\n",
        "baseline_r2 = r2_score(y_test, y_pred)\n",
        "\n",
        "# Initialize a list to store the feature importance scores\n",
        "permutation_scores = []\n",
        "\n",
        "# Iterate over each feature\n",
        "for feature in range(X_train.shape[1]):\n",
        "    # Shuffle the values of the current feature\n",
        "    X_train_shuffled = X_train.copy()\n",
        "    X_train_shuffled[:, feature] = np.random.permutation(X_train[:, feature])\n",
        "\n",
        "    # Re-fit the model and make predictions\n",
        "    namrnn_model.fit(X_train_shuffled, y_train)\n",
        "    y_pred_shuffled = namrnn_model.predict(X_test)\n",
        "\n",
        "    # Calculate the decrease in performance\n",
        "    r2 = r2_score(y_test, y_pred_shuffled)\n",
        "    permutation_score = baseline_r2 - r2\n",
        "    permutation_scores.append(permutation_score)\n",
        "\n",
        "# normalize the feature importance to sum to 1\n",
        "permutation_scores = np.array(permutation_scores)\n",
        "permutation_scores /= permutation_scores.sum()"
      ]
    },
    {
      "cell_type": "code",
      "execution_count": 25,
      "metadata": {
        "colab": {
          "base_uri": "https://localhost:8080/",
          "height": 315
        },
        "id": "QVoVVJBrG5Et",
        "outputId": "9ca31537-98ed-4206-9784-4873502a8a01"
      },
      "outputs": [
        {
          "output_type": "display_data",
          "data": {
            "text/plain": [
              "<Figure size 432x288 with 1 Axes>"
            ],
            "image/png": "[encoded data removed]"
          },
          "metadata": {
            "needs_background": "light"
          }
        }
      ],
      "source": [
        "# Create a bar plot with x-axis values ranging from 0 to the number of columns in the X_train array\n",
        "# and y-axis values set to permutation_scores, using blue color for bars and dark blue for edges.\n",
        "plt.bar(range(X_train.shape[1]), permutation_scores, color='#00BFFF', edgecolor='#00008B')\n",
        "\n",
        "# Set the x-ticks for the plot to be the names of the columns in the original data, rotated 45 degrees,\n",
        "# and with a font size of 12.\n",
        "plt.xticks(range(X_train.shape[1]), data.columns, rotation=45, fontsize=12)\n",
        "\n",
        "# Set the title for the plot to \"Feature Importance NAM-RNN\", with a font size of 20.\n",
        "plt.title('Feature Importance NAM-RNN', fontsize=20)\n",
        "\n",
        "# Set the label for the y-axis to \"Feature Importance Score\", with a font size of 14.\n",
        "plt.ylabel('Feature Importance Score', fontsize=14)\n",
        "\n",
        "# Set the y-axis limits to be between 0 and the maximum value of permutation_scores plus 0.1.\n",
        "plt.ylim(0, max(permutation_scores)+0.1)\n",
        "\n",
        "# Display a grid with dashed lines in a light gray color.\n",
        "plt.grid(visible=True, linestyle='--', color='#D3D3D3')\n",
        "\n",
        "# Save the plot as an image file named \"feature_importance NAM-RNN.png\",\n",
        "# with the plot boundaries tightly cropped.\n",
        "# plt.savefig('feature_importance NAM-RNN.png', bbox_inches='tight')\n",
        "\n",
        "plt.show()"
      ]
    }
  ],
  "metadata": {
    "accelerator": "GPU",
    "colab": {
      "provenance": []
    },
    "gpuClass": "standard",
    "kernelspec": {
      "display_name": "Python 3",
      "name": "python3"
    },
    "language_info": {
      "name": "python"
    }
  },
  "nbformat": 4,
  "nbformat_minor": 0
}