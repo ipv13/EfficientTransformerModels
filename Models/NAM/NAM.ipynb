{
  "cells": [
    {
      "cell_type": "code",
      "source": [
        "# !pip install yfinance\n",
        "# !pip3 install -U --verbose -e \"git+https://github.com/agarwl/google-research.git#egg=neural_additive_models&subdirectory=neural_additive_models\" # install a python package from a repo subdirectory\n",
        "# exit()"
      ],
      "metadata": {
        "id": "zGlXwl6ppcKV"
      },
      "execution_count": 1,
      "outputs": []
    },
    {
      "cell_type": "markdown",
      "source": [
        "## Importing data"
      ],
      "metadata": {
        "id": "INeXW07O6BfB"
      }
    },
    {
      "cell_type": "code",
      "source": [
        "# This code installs the yfinance library, which allows you to access financial data from Yahoo Finance\n",
        "# !pip install yfinance"
      ],
      "metadata": {
        "id": "H0qB0st0cBuC"
      },
      "execution_count": 2,
      "outputs": []
    },
    {
      "cell_type": "code",
      "execution_count": 3,
      "metadata": {
        "colab": {
          "base_uri": "https://localhost:8080/",
          "height": 472
        },
        "id": "Bi9vjAsPfWdY",
        "outputId": "1aa5ee3d-2432-4d67-fe5e-751f257bb374"
      },
      "outputs": [
        {
          "output_type": "stream",
          "name": "stdout",
          "text": [
            "[*********************100%***********************]  4 of 4 completed\n"
          ]
        },
        {
          "output_type": "execute_result",
          "data": {
            "text/plain": [
              "                  CL=F        XOM        ^GSPC   ^TNX\n",
              "Date                                                 \n",
              "2007-06-01   65.080002  84.220001  1536.339966  4.956\n",
              "2007-06-04   66.209999  84.220001  1539.180054  4.929\n",
              "2007-06-05   65.610001  84.260002  1530.949951  4.976\n",
              "2007-06-06   65.959999  83.620003  1517.380005  4.970\n",
              "2007-06-07   66.930000  81.959999  1490.719971  5.099\n",
              "...                ...        ...          ...    ...\n",
              "2022-06-24  107.620003  86.900002  3911.739990  3.125\n",
              "2022-06-27  109.570000  89.029999  3900.110107  3.194\n",
              "2022-06-28  111.760002  91.500000  3821.550049  3.206\n",
              "2022-06-29  109.779999  88.120003  3818.830078  3.093\n",
              "2022-06-30  105.760002  85.639999  3785.379883  2.972\n",
              "\n",
              "[3800 rows x 4 columns]"
            ],
            "text/html": [
              "\n",
              "  <div id=\"df-6d74a0b5-be54-4c90-b3de-5c4f85d1efad\">\n",
              "    <div class=\"colab-df-container\">\n",
              "      <div>\n",
              "<style scoped>\n",
              "    .dataframe tbody tr th:only-of-type {\n",
              "        vertical-align: middle;\n",
              "    }\n",
              "\n",
              "    .dataframe tbody tr th {\n",
              "        vertical-align: top;\n",
              "    }\n",
              "\n",
              "    .dataframe thead th {\n",
              "        text-align: right;\n",
              "    }\n",
              "</style>\n",
              "<table border=\"1\" class=\"dataframe\">\n",
              "  <thead>\n",
              "    <tr style=\"text-align: right;\">\n",
              "      <th></th>\n",
              "      <th>CL=F</th>\n",
              "      <th>XOM</th>\n",
              "      <th>^GSPC</th>\n",
              "      <th>^TNX</th>\n",
              "    </tr>\n",
              "    <tr>\n",
              "      <th>Date</th>\n",
              "      <th></th>\n",
              "      <th></th>\n",
              "      <th></th>\n",
              "      <th></th>\n",
              "    </tr>\n",
              "  </thead>\n",
              "  <tbody>\n",
              "    <tr>\n",
              "      <th>2007-06-01</th>\n",
              "      <td>65.080002</td>\n",
              "      <td>84.220001</td>\n",
              "      <td>1536.339966</td>\n",
              "      <td>4.956</td>\n",
              "    </tr>\n",
              "    <tr>\n",
              "      <th>2007-06-04</th>\n",
              "      <td>66.209999</td>\n",
              "      <td>84.220001</td>\n",
              "      <td>1539.180054</td>\n",
              "      <td>4.929</td>\n",
              "    </tr>\n",
              "    <tr>\n",
              "      <th>2007-06-05</th>\n",
              "      <td>65.610001</td>\n",
              "      <td>84.260002</td>\n",
              "      <td>1530.949951</td>\n",
              "      <td>4.976</td>\n",
              "    </tr>\n",
              "    <tr>\n",
              "      <th>2007-06-06</th>\n",
              "      <td>65.959999</td>\n",
              "      <td>83.620003</td>\n",
              "      <td>1517.380005</td>\n",
              "      <td>4.970</td>\n",
              "    </tr>\n",
              "    <tr>\n",
              "      <th>2007-06-07</th>\n",
              "      <td>66.930000</td>\n",
              "      <td>81.959999</td>\n",
              "      <td>1490.719971</td>\n",
              "      <td>5.099</td>\n",
              "    </tr>\n",
              "    <tr>\n",
              "      <th>...</th>\n",
              "      <td>...</td>\n",
              "      <td>...</td>\n",
              "      <td>...</td>\n",
              "      <td>...</td>\n",
              "    </tr>\n",
              "    <tr>\n",
              "      <th>2022-06-24</th>\n",
              "      <td>107.620003</td>\n",
              "      <td>86.900002</td>\n",
              "      <td>3911.739990</td>\n",
              "      <td>3.125</td>\n",
              "    </tr>\n",
              "    <tr>\n",
              "      <th>2022-06-27</th>\n",
              "      <td>109.570000</td>\n",
              "      <td>89.029999</td>\n",
              "      <td>3900.110107</td>\n",
              "      <td>3.194</td>\n",
              "    </tr>\n",
              "    <tr>\n",
              "      <th>2022-06-28</th>\n",
              "      <td>111.760002</td>\n",
              "      <td>91.500000</td>\n",
              "      <td>3821.550049</td>\n",
              "      <td>3.206</td>\n",
              "    </tr>\n",
              "    <tr>\n",
              "      <th>2022-06-29</th>\n",
              "      <td>109.779999</td>\n",
              "      <td>88.120003</td>\n",
              "      <td>3818.830078</td>\n",
              "      <td>3.093</td>\n",
              "    </tr>\n",
              "    <tr>\n",
              "      <th>2022-06-30</th>\n",
              "      <td>105.760002</td>\n",
              "      <td>85.639999</td>\n",
              "      <td>3785.379883</td>\n",
              "      <td>2.972</td>\n",
              "    </tr>\n",
              "  </tbody>\n",
              "</table>\n",
              "<p>3800 rows × 4 columns</p>\n",
              "</div>\n",
              "      <button class=\"colab-df-convert\" onclick=\"convertToInteractive('df-6d74a0b5-be54-4c90-b3de-5c4f85d1efad')\"\n",
              "              title=\"Convert this dataframe to an interactive table.\"\n",
              "              style=\"display:none;\">\n",
              "        \n",
              "  <svg xmlns=\"http://www.w3.org/2000/svg\" height=\"24px\"viewBox=\"0 0 24 24\"\n",
              "       width=\"24px\">\n",
              "    <path d=\"M0 0h24v24H0V0z\" fill=\"none\"/>\n",
              "    <path d=\"M18.56 5.44l.94 2.06.94-2.06 2.06-.94-2.06-.94-.94-2.06-.94 2.06-2.06.94zm-11 1L8.5 8.5l.94-2.06 2.06-.94-2.06-.94L8.5 2.5l-.94 2.06-2.06.94zm10 10l.94 2.06.94-2.06 2.06-.94-2.06-.94-.94-2.06-.94 2.06-2.06.94z\"/><path d=\"M17.41 7.96l-1.37-1.37c-.4-.4-.92-.59-1.43-.59-.52 0-1.04.2-1.43.59L10.3 9.45l-7.72 7.72c-.78.78-.78 2.05 0 2.83L4 21.41c.39.39.9.59 1.41.59.51 0 1.02-.2 1.41-.59l7.78-7.78 2.81-2.81c.8-.78.8-2.07 0-2.86zM5.41 20L4 18.59l7.72-7.72 1.47 1.35L5.41 20z\"/>\n",
              "  </svg>\n",
              "      </button>\n",
              "      \n",
              "  <style>\n",
              "    .colab-df-container {\n",
              "      display:flex;\n",
              "      flex-wrap:wrap;\n",
              "      gap: 12px;\n",
              "    }\n",
              "\n",
              "    .colab-df-convert {\n",
              "      background-color: #E8F0FE;\n",
              "      border: none;\n",
              "      border-radius: 50%;\n",
              "      cursor: pointer;\n",
              "      display: none;\n",
              "      fill: #1967D2;\n",
              "      height: 32px;\n",
              "      padding: 0 0 0 0;\n",
              "      width: 32px;\n",
              "    }\n",
              "\n",
              "    .colab-df-convert:hover {\n",
              "      background-color: #E2EBFA;\n",
              "      box-shadow: 0px 1px 2px rgba(60, 64, 67, 0.3), 0px 1px 3px 1px rgba(60, 64, 67, 0.15);\n",
              "      fill: #174EA6;\n",
              "    }\n",
              "\n",
              "    [theme=dark] .colab-df-convert {\n",
              "      background-color: #3B4455;\n",
              "      fill: #D2E3FC;\n",
              "    }\n",
              "\n",
              "    [theme=dark] .colab-df-convert:hover {\n",
              "      background-color: #434B5C;\n",
              "      box-shadow: 0px 1px 3px 1px rgba(0, 0, 0, 0.15);\n",
              "      filter: drop-shadow(0px 1px 2px rgba(0, 0, 0, 0.3));\n",
              "      fill: #FFFFFF;\n",
              "    }\n",
              "  </style>\n",
              "\n",
              "      <script>\n",
              "        const buttonEl =\n",
              "          document.querySelector('#df-6d74a0b5-be54-4c90-b3de-5c4f85d1efad button.colab-df-convert');\n",
              "        buttonEl.style.display =\n",
              "          google.colab.kernel.accessAllowed ? 'block' : 'none';\n",
              "\n",
              "        async function convertToInteractive(key) {\n",
              "          const element = document.querySelector('#df-6d74a0b5-be54-4c90-b3de-5c4f85d1efad');\n",
              "          const dataTable =\n",
              "            await google.colab.kernel.invokeFunction('convertToInteractive',\n",
              "                                                     [key], {});\n",
              "          if (!dataTable) return;\n",
              "\n",
              "          const docLinkHtml = 'Like what you see? Visit the ' +\n",
              "            '<a target=\"_blank\" href=https://colab.research.google.com/notebooks/data_table.ipynb>data table notebook</a>'\n",
              "            + ' to learn more about interactive tables.';\n",
              "          element.innerHTML = '';\n",
              "          dataTable['output_type'] = 'display_data';\n",
              "          await google.colab.output.renderOutput(dataTable, element);\n",
              "          const docLink = document.createElement('div');\n",
              "          docLink.innerHTML = docLinkHtml;\n",
              "          element.appendChild(docLink);\n",
              "        }\n",
              "      </script>\n",
              "    </div>\n",
              "  </div>\n",
              "  "
            ]
          },
          "metadata": {},
          "execution_count": 3
        }
      ],
      "source": [
        "# Import the yfinance library and assign it to the alias 'yf'\n",
        "import yfinance as yf\n",
        "\n",
        "# Create a list of tickers for the stocks you want to retrieve data for\n",
        "list_tickers = ['CL=F','^GSPC', '^TNX', 'XOM']\n",
        "\n",
        "# Use the Tickers() function from yfinance to create an object for each ticker in the list\n",
        "tickers = yf.Tickers(list_tickers)\n",
        "\n",
        "# Use the download() function from yfinance to download the stock data for the specified date range\n",
        "data = yf.download(list_tickers,  start=\"2007-06-01\", end=\"2022-07-01\")\n",
        "\n",
        "# Extract the 'Close' column from the dataframe\n",
        "data = data['Close']\n",
        "\n",
        "# Print the dataframe\n",
        "data\n"
      ]
    },
    {
      "cell_type": "code",
      "execution_count": 4,
      "metadata": {
        "colab": {
          "base_uri": "https://localhost:8080/"
        },
        "id": "abeYDc_6spJv",
        "outputId": "575b8ec9-bd33-433e-96ef-54fd76959274"
      },
      "outputs": [
        {
          "output_type": "execute_result",
          "data": {
            "text/plain": [
              "False"
            ]
          },
          "metadata": {},
          "execution_count": 4
        }
      ],
      "source": [
        "# Remove all rows with missing values (NaN) from the dataframe\n",
        "data = data.dropna()\n",
        "\n",
        "# Check if the dataframe still contains any missing values\n",
        "# returns False if there is no missing values\n",
        "data.isnull().values.any()"
      ]
    },
    {
      "cell_type": "markdown",
      "source": [
        "##Statistical analysis "
      ],
      "metadata": {
        "id": "4xu7Fp7V3z3d"
      }
    },
    {
      "cell_type": "code",
      "source": [
        "## Compute the Pearson's correlation coefficient between the columns\n",
        "corr_matrix = data.corr()\n",
        "print(corr_matrix)"
      ],
      "metadata": {
        "colab": {
          "base_uri": "https://localhost:8080/"
        },
        "id": "HX_JGrUzugUI",
        "outputId": "78227964-5623-4336-a0f7-c97ff9cc2d39"
      },
      "execution_count": 5,
      "outputs": [
        {
          "output_type": "stream",
          "name": "stdout",
          "text": [
            "           CL=F       XOM     ^GSPC      ^TNX\n",
            "CL=F   1.000000  0.478751 -0.283245  0.445553\n",
            "XOM    0.478751  1.000000 -0.369685  0.400259\n",
            "^GSPC -0.283245 -0.369685  1.000000 -0.533662\n",
            "^TNX   0.445553  0.400259 -0.533662  1.000000\n"
          ]
        }
      ]
    },
    {
      "cell_type": "code",
      "source": [
        "## The spearmanr function returns two values: the Spearman's rank correlation coefficient (corr) and the p-value. The p-value can be used \n",
        "## to assess the statistical significance of the correlation. A small p-value (typically less than 0.05) \n",
        "## indicates that the correlation is statistically significant, while a large p-value suggests that the correlation may not be meaningful.\n",
        "\n",
        "from scipy.stats import spearmanr\n",
        "\n",
        "# Compute the Spearman's rank correlation matrix\n",
        "corr_matrix = data.corr(method='spearman')\n",
        "\n",
        "# Extract the column names\n",
        "column_names = data.columns\n",
        "\n",
        "# Loop through all pairs of variables\n",
        "for i in range(len(column_names)):\n",
        "    for j in range(i+1, len(column_names)):\n",
        "        # Extract the columns of interest\n",
        "        x = data[column_names[i]].values\n",
        "        y = data[column_names[j]].values\n",
        "        \n",
        "        # Compute the Spearman's rank correlation coefficient and p-value\n",
        "        corr, p_value = spearmanr(x, y)\n",
        "        \n",
        "        print(f'Spearman\\'s rank correlation coefficient between {column_names[i]} and {column_names[j]}: {corr:.3f}')\n",
        "        print(f'p-value: {p_value:.3f}')\n"
      ],
      "metadata": {
        "colab": {
          "base_uri": "https://localhost:8080/"
        },
        "id": "Fviawhuo3D7I",
        "outputId": "7212c8b9-8929-4422-d3dd-4041db76dd50"
      },
      "execution_count": 6,
      "outputs": [
        {
          "output_type": "stream",
          "name": "stdout",
          "text": [
            "Spearman's rank correlation coefficient between CL=F and XOM: 0.449\n",
            "p-value: 0.000\n",
            "Spearman's rank correlation coefficient between CL=F and ^GSPC: -0.368\n",
            "p-value: 0.000\n",
            "Spearman's rank correlation coefficient between CL=F and ^TNX: 0.428\n",
            "p-value: 0.000\n",
            "Spearman's rank correlation coefficient between XOM and ^GSPC: -0.162\n",
            "p-value: 0.000\n",
            "Spearman's rank correlation coefficient between XOM and ^TNX: 0.229\n",
            "p-value: 0.000\n",
            "Spearman's rank correlation coefficient between ^GSPC and ^TNX: -0.555\n",
            "p-value: 0.000\n"
          ]
        }
      ]
    },
    {
      "cell_type": "markdown",
      "source": [
        "# Descriptive statistics\n",
        "\n"
      ],
      "metadata": {
        "id": "GgFwHJ1G4pu8"
      }
    },
    {
      "cell_type": "code",
      "source": [
        "# Compute the descriptive statistics\n",
        "stats = data.describe()\n",
        "\n",
        "# Print the statistics\n",
        "print(stats)\n"
      ],
      "metadata": {
        "colab": {
          "base_uri": "https://localhost:8080/"
        },
        "id": "3g80bMj44vEe",
        "outputId": "bfac9dae-a3c4-44b2-b833-7db248bf5da1"
      },
      "execution_count": 7,
      "outputs": [
        {
          "output_type": "stream",
          "name": "stdout",
          "text": [
            "              CL=F          XOM        ^GSPC         ^TNX\n",
            "count  3795.000000  3795.000000  3795.000000  3795.000000\n",
            "mean     72.404379    77.762809  2140.631904     2.458397\n",
            "std      23.799346    14.021281   982.681021     0.894163\n",
            "min     -37.630001    31.450001   676.530029     0.499000\n",
            "25%      52.174999    70.085003  1337.885010     1.827000\n",
            "50%      70.800003    81.160004  1979.260010     2.373000\n",
            "75%      93.020000    87.239998  2747.085083     2.971500\n",
            "max     145.289993   104.589996  4796.560059     5.248000\n"
          ]
        }
      ]
    },
    {
      "cell_type": "code",
      "source": [
        "# Select specific columns from the dataframe\n",
        "data = data[['CL=F','^GSPC', '^TNX', 'XOM']]\n",
        "\n",
        "# Import numpy and train_test_split function from sklearn\n",
        "import numpy as np\n",
        "from sklearn.model_selection import train_test_split\n",
        "\n",
        "# Split the data into a training and test set, with a 80/20 split\n",
        "# test_size = 0.2 means 20% of the data will be used for testing\n",
        "training_set, test_set = train_test_split(data, test_size=0.2)\n",
        "\n",
        "# Convert the training and test sets to numpy arrays\n",
        "training_set = training_set.values\n",
        "test_set = test_set.values"
      ],
      "metadata": {
        "id": "IXxFKfFu_ImY"
      },
      "execution_count": 8,
      "outputs": []
    },
    {
      "cell_type": "code",
      "source": [
        "# Check the shape of the test set\n",
        "# The output will be the number of rows and columns in the test set\n",
        "test_set.shape"
      ],
      "metadata": {
        "id": "KOuqCvYDrD_G",
        "outputId": "c86bacae-ec14-46b0-bd8f-d3a4f40fe9bb",
        "colab": {
          "base_uri": "https://localhost:8080/"
        }
      },
      "execution_count": 9,
      "outputs": [
        {
          "output_type": "execute_result",
          "data": {
            "text/plain": [
              "(759, 4)"
            ]
          },
          "metadata": {},
          "execution_count": 9
        }
      ]
    },
    {
      "cell_type": "code",
      "source": [
        "# Import the StandardScaler class from the sklearn.preprocessing module\n",
        "from sklearn.preprocessing import StandardScaler\n",
        "\n",
        "# Create an instance of the StandardScaler class\n",
        "sc = StandardScaler()\n",
        "\n",
        "# Fit the StandardScaler to the training set and transform it\n",
        "# This centers and scales the data so that the mean is 0 and the standard deviation is 1\n",
        "training_set_scaled = sc.fit_transform(training_set)\n",
        "\n",
        "# Apply the same scaling to the test set\n",
        "test_set_scaled = sc.transform(test_set)"
      ],
      "metadata": {
        "id": "XXLlYj9co7MI"
      },
      "execution_count": 10,
      "outputs": []
    },
    {
      "cell_type": "code",
      "source": [
        "# Create the training set for the independent variables (X_train)\n",
        "# This is all columns except the last column in the training set (scaled)\n",
        "X_train = training_set_scaled[:,:-1]\n",
        "\n",
        "# Create the training set for the dependent variable (y_train)\n",
        "# This is the last column in the training set (scaled)\n",
        "y_train = training_set_scaled[:,-1]\n",
        "\n",
        "# Print the X_train and y_train to check the data\n",
        "X_train, y_train"
      ],
      "metadata": {
        "id": "uNyGqNuKpAVn",
        "outputId": "e0ef0779-1cc7-47ec-ad44-5764ccab1217",
        "colab": {
          "base_uri": "https://localhost:8080/"
        }
      },
      "execution_count": 11,
      "outputs": [
        {
          "output_type": "execute_result",
          "data": {
            "text/plain": [
              "(array([[-6.71845016e-01, -6.87405173e-02, -3.15449023e-01],\n",
              "        [-2.06081423e-03, -1.09917804e+00,  8.93247153e-02],\n",
              "        [ 2.44767535e+00, -8.91460565e-01,  1.79899043e+00],\n",
              "        ...,\n",
              "        [ 6.33397112e-01, -9.08845627e-01,  1.13927640e+00],\n",
              "        [-2.95509858e-01,  5.26208205e-01,  3.78927838e-01],\n",
              "        [-9.95434567e-01, -3.02557402e-02, -2.00278674e-01]]),\n",
              " array([ 1.13811805, -1.35132987,  0.37400906, ..., -0.39726838,\n",
              "        -0.04962027,  0.38547758]))"
            ]
          },
          "metadata": {},
          "execution_count": 11
        }
      ]
    },
    {
      "cell_type": "code",
      "source": [
        "# Create the test set for the independent variables (X_test)\n",
        "# This is all columns except the last column in the test set (scaled)\n",
        "X_test = test_set_scaled[:,:-1]\n",
        "\n",
        "# Create the test set for the dependent variable (y_test)\n",
        "# This is the last column in the test set (scaled)\n",
        "y_test = test_set_scaled[:,-1]"
      ],
      "metadata": {
        "id": "G1dVFroEpBz-"
      },
      "execution_count": 12,
      "outputs": []
    },
    {
      "cell_type": "code",
      "source": [
        "X_train.shape"
      ],
      "metadata": {
        "id": "K94xOPHp7APs",
        "outputId": "f9754b30-b847-4edc-eb7b-039c84b29725",
        "colab": {
          "base_uri": "https://localhost:8080/"
        }
      },
      "execution_count": 13,
      "outputs": [
        {
          "output_type": "execute_result",
          "data": {
            "text/plain": [
              "(3036, 3)"
            ]
          },
          "metadata": {},
          "execution_count": 13
        }
      ]
    },
    {
      "cell_type": "markdown",
      "metadata": {
        "id": "ZIpvZMpzpbbz"
      },
      "source": [
        "MODEL.PY"
      ]
    },
    {
      "cell_type": "code",
      "execution_count": 14,
      "metadata": {
        "id": "sdqOR2yWjba2"
      },
      "outputs": [],
      "source": [
        "#@title Imports\n",
        "\n",
        "import tensorflow.compat.v2 as tf\n",
        "tf.enable_v2_behavior()\n",
        "\n",
        "import data_utils\n",
        "import models as nam_models\n",
        "import graph_builder\n",
        "import os.path as osp\n",
        "import numpy as np\n",
        "\n",
        "import matplotlib.pyplot as plt"
      ]
    },
    {
      "cell_type": "code",
      "source": [
        "tf.compat.v1.reset_default_graph()\n",
        "nn_model = graph_builder.create_nam_model(\n",
        "    x_train=X_train,\n",
        "    dropout=0.0,\n",
        "    num_basis_functions=64,\n",
        "    activation='relu',\n",
        "    trainable=True,\n",
        "    shallow=False,\n",
        "    name_scope='model')\n",
        "\n",
        "_ = nn_model(X_train[:1])\n",
        "nn_model.summary()"
      ],
      "metadata": {
        "colab": {
          "base_uri": "https://localhost:8080/"
        },
        "id": "xEfvj_4HaWpf",
        "outputId": "5ed2e858-f964-413e-9eac-494412919884"
      },
      "execution_count": 15,
      "outputs": [
        {
          "output_type": "stream",
          "name": "stderr",
          "text": [
            "WARNING:tensorflow:From /usr/local/lib/python3.8/dist-packages/tensorflow/python/autograph/pyct/static_analysis/liveness.py:83: Analyzer.lamba_check (from tensorflow.python.autograph.pyct.static_analysis.liveness) is deprecated and will be removed after 2023-09-23.\n",
            "Instructions for updating:\n",
            "Lambda fuctions will be no more assumed to be used in the statement where they are used, or at least in the same block. https://github.com/tensorflow/tensorflow/issues/56089\n"
          ]
        },
        {
          "output_type": "stream",
          "name": "stdout",
          "text": [
            "Model: \"nam\"\n",
            "_________________________________________________________________\n",
            " Layer (type)                Output Shape              Param #   \n",
            "=================================================================\n",
            " feature_nn (FeatureNN)      multiple                  6400      \n",
            "                                                                 \n",
            " feature_nn_1 (FeatureNN)    multiple                  6400      \n",
            "                                                                 \n",
            " feature_nn_2 (FeatureNN)    multiple                  6400      \n",
            "                                                                 \n",
            "=================================================================\n",
            "Total params: 19,201\n",
            "Trainable params: 19,201\n",
            "Non-trainable params: 0\n",
            "_________________________________________________________________\n"
          ]
        }
      ]
    },
    {
      "cell_type": "code",
      "execution_count": 16,
      "metadata": {
        "id": "9vMK5Jc1juKC"
      },
      "outputs": [],
      "source": [
        "# Compile the model\n",
        "# The optimizer is the algorithm used to update the model's weights\n",
        "# Adam is a popular choice for neural networks\n",
        "# The loss function measures how well the model is doing, and the optimizer tries to minimize it\n",
        "# MeanSquaredError is a common choice for regression problems\n",
        "# The metrics is used to monitor the training and testing steps. It's useful to have an idea of how well the model is doing\n",
        "nn_model.compile(optimizer=tf.keras.optimizers.Adam(), \n",
        "                    loss= tf.keras.losses.MeanSquaredError(),\n",
        "                    metrics = tf.keras.metrics.RootMeanSquaredError(),)"
      ]
    },
    {
      "cell_type": "code",
      "execution_count": 17,
      "metadata": {
        "id": "RLqTYJOjjy3S",
        "colab": {
          "base_uri": "https://localhost:8080/"
        },
        "outputId": "0bba96a5-2388-48f6-a22d-046602a9e1a4"
      },
      "outputs": [
        {
          "output_type": "stream",
          "name": "stdout",
          "text": [
            "Epoch 1/100\n",
            "95/95 [==============================] - 13s 10ms/step - loss: 0.3582 - root_mean_squared_error: 0.5985\n",
            "Epoch 2/100\n",
            "95/95 [==============================] - 1s 9ms/step - loss: 0.1640 - root_mean_squared_error: 0.4050\n",
            "Epoch 3/100\n",
            "95/95 [==============================] - 1s 10ms/step - loss: 0.1471 - root_mean_squared_error: 0.3835\n",
            "Epoch 4/100\n",
            "95/95 [==============================] - 1s 12ms/step - loss: 0.1377 - root_mean_squared_error: 0.3710\n",
            "Epoch 5/100\n",
            "95/95 [==============================] - 1s 10ms/step - loss: 0.1297 - root_mean_squared_error: 0.3602\n",
            "Epoch 6/100\n",
            "95/95 [==============================] - 1s 10ms/step - loss: 0.1246 - root_mean_squared_error: 0.3530\n",
            "Epoch 7/100\n",
            "95/95 [==============================] - 1s 10ms/step - loss: 0.1170 - root_mean_squared_error: 0.3420\n",
            "Epoch 8/100\n",
            "95/95 [==============================] - 1s 11ms/step - loss: 0.1118 - root_mean_squared_error: 0.3344\n",
            "Epoch 9/100\n",
            "95/95 [==============================] - 1s 11ms/step - loss: 0.1044 - root_mean_squared_error: 0.3232\n",
            "Epoch 10/100\n",
            "95/95 [==============================] - 2s 19ms/step - loss: 0.1016 - root_mean_squared_error: 0.3187\n",
            "Epoch 11/100\n",
            "95/95 [==============================] - 2s 17ms/step - loss: 0.0972 - root_mean_squared_error: 0.3118\n",
            "Epoch 12/100\n",
            "95/95 [==============================] - 2s 18ms/step - loss: 0.0971 - root_mean_squared_error: 0.3115\n",
            "Epoch 13/100\n",
            "95/95 [==============================] - 1s 12ms/step - loss: 0.0958 - root_mean_squared_error: 0.3095\n",
            "Epoch 14/100\n",
            "95/95 [==============================] - 1s 6ms/step - loss: 0.0932 - root_mean_squared_error: 0.3053\n",
            "Epoch 15/100\n",
            "95/95 [==============================] - 1s 6ms/step - loss: 0.0916 - root_mean_squared_error: 0.3027\n",
            "Epoch 16/100\n",
            "95/95 [==============================] - 1s 6ms/step - loss: 0.0927 - root_mean_squared_error: 0.3044\n",
            "Epoch 17/100\n",
            "95/95 [==============================] - 1s 6ms/step - loss: 0.0924 - root_mean_squared_error: 0.3039\n",
            "Epoch 18/100\n",
            "95/95 [==============================] - 1s 6ms/step - loss: 0.0929 - root_mean_squared_error: 0.3048\n",
            "Epoch 19/100\n",
            "95/95 [==============================] - 1s 6ms/step - loss: 0.0901 - root_mean_squared_error: 0.3002\n",
            "Epoch 20/100\n",
            "95/95 [==============================] - 1s 6ms/step - loss: 0.0905 - root_mean_squared_error: 0.3009\n",
            "Epoch 21/100\n",
            "95/95 [==============================] - 1s 6ms/step - loss: 0.0902 - root_mean_squared_error: 0.3003\n",
            "Epoch 22/100\n",
            "95/95 [==============================] - 1s 6ms/step - loss: 0.0904 - root_mean_squared_error: 0.3006\n",
            "Epoch 23/100\n",
            "95/95 [==============================] - 1s 6ms/step - loss: 0.0907 - root_mean_squared_error: 0.3012\n",
            "Epoch 24/100\n",
            "95/95 [==============================] - 1s 9ms/step - loss: 0.0881 - root_mean_squared_error: 0.2969\n",
            "Epoch 25/100\n",
            "95/95 [==============================] - 1s 10ms/step - loss: 0.0878 - root_mean_squared_error: 0.2964\n",
            "Epoch 26/100\n",
            "95/95 [==============================] - 1s 11ms/step - loss: 0.0871 - root_mean_squared_error: 0.2952\n",
            "Epoch 27/100\n",
            "95/95 [==============================] - 1s 10ms/step - loss: 0.0877 - root_mean_squared_error: 0.2962\n",
            "Epoch 28/100\n",
            "95/95 [==============================] - 1s 13ms/step - loss: 0.0861 - root_mean_squared_error: 0.2935\n",
            "Epoch 29/100\n",
            "95/95 [==============================] - 1s 13ms/step - loss: 0.0858 - root_mean_squared_error: 0.2929\n",
            "Epoch 30/100\n",
            "95/95 [==============================] - 1s 16ms/step - loss: 0.0891 - root_mean_squared_error: 0.2985\n",
            "Epoch 31/100\n",
            "95/95 [==============================] - 2s 16ms/step - loss: 0.0868 - root_mean_squared_error: 0.2946\n",
            "Epoch 32/100\n",
            "95/95 [==============================] - 1s 15ms/step - loss: 0.0880 - root_mean_squared_error: 0.2967\n",
            "Epoch 33/100\n",
            "95/95 [==============================] - 1s 10ms/step - loss: 0.0849 - root_mean_squared_error: 0.2913\n",
            "Epoch 34/100\n",
            "95/95 [==============================] - 1s 11ms/step - loss: 0.0902 - root_mean_squared_error: 0.3003\n",
            "Epoch 35/100\n",
            "95/95 [==============================] - 1s 12ms/step - loss: 0.0866 - root_mean_squared_error: 0.2943\n",
            "Epoch 36/100\n",
            "95/95 [==============================] - 1s 10ms/step - loss: 0.0868 - root_mean_squared_error: 0.2946\n",
            "Epoch 37/100\n",
            "95/95 [==============================] - 1s 10ms/step - loss: 0.0852 - root_mean_squared_error: 0.2919\n",
            "Epoch 38/100\n",
            "95/95 [==============================] - 1s 12ms/step - loss: 0.0850 - root_mean_squared_error: 0.2916\n",
            "Epoch 39/100\n",
            "95/95 [==============================] - 1s 9ms/step - loss: 0.0859 - root_mean_squared_error: 0.2931\n",
            "Epoch 40/100\n",
            "95/95 [==============================] - 1s 11ms/step - loss: 0.0854 - root_mean_squared_error: 0.2922\n",
            "Epoch 41/100\n",
            "95/95 [==============================] - 1s 11ms/step - loss: 0.0873 - root_mean_squared_error: 0.2954\n",
            "Epoch 42/100\n",
            "95/95 [==============================] - 1s 12ms/step - loss: 0.0880 - root_mean_squared_error: 0.2967\n",
            "Epoch 43/100\n",
            "95/95 [==============================] - 1s 15ms/step - loss: 0.0857 - root_mean_squared_error: 0.2927\n",
            "Epoch 44/100\n",
            "95/95 [==============================] - 1s 13ms/step - loss: 0.0851 - root_mean_squared_error: 0.2918\n",
            "Epoch 45/100\n",
            "95/95 [==============================] - 1s 14ms/step - loss: 0.0846 - root_mean_squared_error: 0.2908\n",
            "Epoch 46/100\n",
            "95/95 [==============================] - 1s 9ms/step - loss: 0.0839 - root_mean_squared_error: 0.2896\n",
            "Epoch 47/100\n",
            "95/95 [==============================] - 1s 8ms/step - loss: 0.0827 - root_mean_squared_error: 0.2876\n",
            "Epoch 48/100\n",
            "95/95 [==============================] - 1s 6ms/step - loss: 0.0849 - root_mean_squared_error: 0.2914\n",
            "Epoch 49/100\n",
            "95/95 [==============================] - 1s 6ms/step - loss: 0.0835 - root_mean_squared_error: 0.2890\n",
            "Epoch 50/100\n",
            "95/95 [==============================] - 1s 5ms/step - loss: 0.0830 - root_mean_squared_error: 0.2880\n",
            "Epoch 51/100\n",
            "95/95 [==============================] - 1s 6ms/step - loss: 0.0853 - root_mean_squared_error: 0.2921\n",
            "Epoch 52/100\n",
            "95/95 [==============================] - 1s 6ms/step - loss: 0.0849 - root_mean_squared_error: 0.2913\n",
            "Epoch 53/100\n",
            "95/95 [==============================] - 1s 6ms/step - loss: 0.0834 - root_mean_squared_error: 0.2888\n",
            "Epoch 54/100\n",
            "95/95 [==============================] - 1s 6ms/step - loss: 0.0837 - root_mean_squared_error: 0.2893\n",
            "Epoch 55/100\n",
            "95/95 [==============================] - 1s 6ms/step - loss: 0.0843 - root_mean_squared_error: 0.2903\n",
            "Epoch 56/100\n",
            "95/95 [==============================] - 1s 6ms/step - loss: 0.0844 - root_mean_squared_error: 0.2905\n",
            "Epoch 57/100\n",
            "95/95 [==============================] - 1s 6ms/step - loss: 0.0840 - root_mean_squared_error: 0.2898\n",
            "Epoch 58/100\n",
            "95/95 [==============================] - 1s 6ms/step - loss: 0.0828 - root_mean_squared_error: 0.2877\n",
            "Epoch 59/100\n",
            "95/95 [==============================] - 1s 6ms/step - loss: 0.0827 - root_mean_squared_error: 0.2876\n",
            "Epoch 60/100\n",
            "95/95 [==============================] - 1s 6ms/step - loss: 0.0846 - root_mean_squared_error: 0.2909\n",
            "Epoch 61/100\n",
            "95/95 [==============================] - 1s 6ms/step - loss: 0.0832 - root_mean_squared_error: 0.2885\n",
            "Epoch 62/100\n",
            "95/95 [==============================] - 1s 6ms/step - loss: 0.0833 - root_mean_squared_error: 0.2886\n",
            "Epoch 63/100\n",
            "95/95 [==============================] - 1s 6ms/step - loss: 0.0858 - root_mean_squared_error: 0.2929\n",
            "Epoch 64/100\n",
            "95/95 [==============================] - 1s 6ms/step - loss: 0.0831 - root_mean_squared_error: 0.2884\n",
            "Epoch 65/100\n",
            "95/95 [==============================] - 1s 6ms/step - loss: 0.0863 - root_mean_squared_error: 0.2937\n",
            "Epoch 66/100\n",
            "95/95 [==============================] - 1s 8ms/step - loss: 0.0829 - root_mean_squared_error: 0.2879\n",
            "Epoch 67/100\n",
            "95/95 [==============================] - 1s 8ms/step - loss: 0.0834 - root_mean_squared_error: 0.2888\n",
            "Epoch 68/100\n",
            "95/95 [==============================] - 1s 8ms/step - loss: 0.0830 - root_mean_squared_error: 0.2880\n",
            "Epoch 69/100\n",
            "95/95 [==============================] - 1s 8ms/step - loss: 0.0834 - root_mean_squared_error: 0.2888\n",
            "Epoch 70/100\n",
            "95/95 [==============================] - 1s 9ms/step - loss: 0.0811 - root_mean_squared_error: 0.2848\n",
            "Epoch 71/100\n",
            "95/95 [==============================] - 1s 9ms/step - loss: 0.0831 - root_mean_squared_error: 0.2883\n",
            "Epoch 72/100\n",
            "95/95 [==============================] - 1s 7ms/step - loss: 0.0828 - root_mean_squared_error: 0.2877\n",
            "Epoch 73/100\n",
            "95/95 [==============================] - 1s 6ms/step - loss: 0.0828 - root_mean_squared_error: 0.2878\n",
            "Epoch 74/100\n",
            "95/95 [==============================] - 1s 6ms/step - loss: 0.0823 - root_mean_squared_error: 0.2869\n",
            "Epoch 75/100\n",
            "95/95 [==============================] - 1s 6ms/step - loss: 0.0819 - root_mean_squared_error: 0.2862\n",
            "Epoch 76/100\n",
            "95/95 [==============================] - 1s 6ms/step - loss: 0.0824 - root_mean_squared_error: 0.2871\n",
            "Epoch 77/100\n",
            "95/95 [==============================] - 1s 6ms/step - loss: 0.0821 - root_mean_squared_error: 0.2866\n",
            "Epoch 78/100\n",
            "95/95 [==============================] - 1s 6ms/step - loss: 0.0841 - root_mean_squared_error: 0.2901\n",
            "Epoch 79/100\n",
            "95/95 [==============================] - 1s 6ms/step - loss: 0.0831 - root_mean_squared_error: 0.2882\n",
            "Epoch 80/100\n",
            "95/95 [==============================] - 1s 7ms/step - loss: 0.0823 - root_mean_squared_error: 0.2868\n",
            "Epoch 81/100\n",
            "95/95 [==============================] - 1s 6ms/step - loss: 0.0840 - root_mean_squared_error: 0.2899\n",
            "Epoch 82/100\n",
            "95/95 [==============================] - 1s 6ms/step - loss: 0.0814 - root_mean_squared_error: 0.2853\n",
            "Epoch 83/100\n",
            "95/95 [==============================] - 1s 6ms/step - loss: 0.0808 - root_mean_squared_error: 0.2843\n",
            "Epoch 84/100\n",
            "95/95 [==============================] - 1s 6ms/step - loss: 0.0805 - root_mean_squared_error: 0.2838\n",
            "Epoch 85/100\n",
            "95/95 [==============================] - 1s 6ms/step - loss: 0.0811 - root_mean_squared_error: 0.2847\n",
            "Epoch 86/100\n",
            "95/95 [==============================] - 1s 6ms/step - loss: 0.0827 - root_mean_squared_error: 0.2875\n",
            "Epoch 87/100\n",
            "95/95 [==============================] - 1s 6ms/step - loss: 0.0801 - root_mean_squared_error: 0.2830\n",
            "Epoch 88/100\n",
            "95/95 [==============================] - 1s 6ms/step - loss: 0.0818 - root_mean_squared_error: 0.2861\n",
            "Epoch 89/100\n",
            "95/95 [==============================] - 1s 6ms/step - loss: 0.0805 - root_mean_squared_error: 0.2838\n",
            "Epoch 90/100\n",
            "95/95 [==============================] - 1s 8ms/step - loss: 0.0811 - root_mean_squared_error: 0.2848\n",
            "Epoch 91/100\n",
            "95/95 [==============================] - 1s 8ms/step - loss: 0.0821 - root_mean_squared_error: 0.2865\n",
            "Epoch 92/100\n",
            "95/95 [==============================] - 1s 8ms/step - loss: 0.0797 - root_mean_squared_error: 0.2823\n",
            "Epoch 93/100\n",
            "95/95 [==============================] - 1s 8ms/step - loss: 0.0823 - root_mean_squared_error: 0.2869\n",
            "Epoch 94/100\n",
            "95/95 [==============================] - 1s 9ms/step - loss: 0.0807 - root_mean_squared_error: 0.2840\n",
            "Epoch 95/100\n",
            "95/95 [==============================] - 1s 9ms/step - loss: 0.0805 - root_mean_squared_error: 0.2837\n",
            "Epoch 96/100\n",
            "95/95 [==============================] - 1s 8ms/step - loss: 0.0811 - root_mean_squared_error: 0.2849\n",
            "Epoch 97/100\n",
            "95/95 [==============================] - 1s 6ms/step - loss: 0.0799 - root_mean_squared_error: 0.2827\n",
            "Epoch 98/100\n",
            "95/95 [==============================] - 1s 6ms/step - loss: 0.0815 - root_mean_squared_error: 0.2854\n",
            "Epoch 99/100\n",
            "95/95 [==============================] - 1s 6ms/step - loss: 0.0800 - root_mean_squared_error: 0.2828\n",
            "Epoch 100/100\n",
            "95/95 [==============================] - 1s 6ms/step - loss: 0.0803 - root_mean_squared_error: 0.2834\n"
          ]
        },
        {
          "output_type": "execute_result",
          "data": {
            "text/plain": [
              "<keras.callbacks.History at 0x7f1f55f4a4f0>"
            ]
          },
          "metadata": {},
          "execution_count": 17
        }
      ],
      "source": [
        "nn_model.fit(X_train, y_train, epochs = 100, batch_size = 32)"
      ]
    },
    {
      "cell_type": "code",
      "execution_count": 18,
      "metadata": {
        "id": "k4-aQdEshbPG",
        "outputId": "f226f091-ecff-47a8-ddfe-372269debb13",
        "colab": {
          "base_uri": "https://localhost:8080/"
        }
      },
      "outputs": [
        {
          "output_type": "stream",
          "name": "stdout",
          "text": [
            "24/24 [==============================] - 0s 3ms/step - loss: 0.0787 - root_mean_squared_error: 0.2805\n"
          ]
        },
        {
          "output_type": "execute_result",
          "data": {
            "text/plain": [
              "[0.0786958709359169, 0.28052783012390137]"
            ]
          },
          "metadata": {},
          "execution_count": 18
        }
      ],
      "source": [
        "# Evaluate the model on the test set\n",
        "# This will return the loss and any metrics specified during model compilation\n",
        "nn_model.evaluate(X_test,y_test)"
      ]
    },
    {
      "cell_type": "code",
      "execution_count": 19,
      "metadata": {
        "id": "GTTG61gYYQPD",
        "colab": {
          "base_uri": "https://localhost:8080/"
        },
        "outputId": "61cf4841-4fb5-4074-e9c5-62aafc50f22d"
      },
      "outputs": [
        {
          "output_type": "stream",
          "name": "stdout",
          "text": [
            "24/24 [==============================] - 0s 2ms/step\n",
            "y_test.shape= (759, 1) y_pred.shape= (759,)\n"
          ]
        }
      ],
      "source": [
        "# Use the model to make predictions on the test set\n",
        "predicted_stock_price = nn_model.predict(X_test)\n",
        "y_pred = predicted_stock_price\n",
        "# Reshape y_test to have the same shape as the predictions\n",
        "y_test = np.reshape(y_test, (759,1))\n",
        "\n",
        "# Print the shape of y_test and the predictions to check they match\n",
        "print(\"y_test.shape=\",y_test.shape,\n",
        "      \"y_pred.shape=\",predicted_stock_price.shape)"
      ]
    },
    {
      "cell_type": "code",
      "source": [
        "# # Inverse scaling the training and test set\n",
        "# training_set_original = sc.inverse_transform(training_set_scaled)\n",
        "# test_set_original = sc.inverse_transform(test_set_scaled)\n",
        "\n",
        "# # Extracting the independent and dependent variables for the training set\n",
        "# # X_train contains all columns except the last column\n",
        "# X_train = training_set_original[:,:-1]\n",
        "# # y_train contains only the last column\n",
        "# y_train = training_set_original[:,-1]\n",
        "\n",
        "# # Extracting the independent and dependent variables for the test set\n",
        "# # X_test contains all columns except the last column\n",
        "# X_test = test_set_original[:,:-1]\n",
        "# # y_test contains only the last column\n",
        "# y_test = test_set_original[:,-1]\n",
        "\n",
        "# # Inverse scaling the predicted stock price\n",
        "# predicted_stock_price = y_pred*sc.scale_[-1]+sc.mean_[-1]"
      ],
      "metadata": {
        "id": "tFGZjfcN_H4f"
      },
      "execution_count": 20,
      "outputs": []
    },
    {
      "cell_type": "code",
      "source": [
        "from sklearn import metrics as sk_metrics\n",
        "\n",
        "def rmse(y_true, y_pred):\n",
        "  \"\"\"Root mean squared error between true and predicted values.\"\"\"\n",
        "  return float(np.sqrt(sk_metrics.mean_squared_error(y_true, y_pred)))\n",
        "\n",
        "def mae(y_true, y_pred):\n",
        "  \"\"\"Mean Absolute Error between true and predicted values.\"\"\"\n",
        "  return float(sk_metrics.mean_absolute_error(y_true, y_pred)) \n",
        "\n",
        "def mse(y_true, y_pred):\n",
        "  \"\"\"Mean squared error between true and predicted values.\"\"\"\n",
        "  return float(sk_metrics.mean_squared_error(y_true, y_pred))\n",
        "\n",
        "def r2_score(y_true, y_pred):\n",
        "  \"\"\"R-squared score between true and predicted values.\"\"\"\n",
        "  return float(sk_metrics.r2_score(y_true, y_pred)) \n",
        "\n",
        "def sigmoid(x):\n",
        "  \"\"\"Sigmoid function.\"\"\"\n",
        "  if isinstance(x, list):\n",
        "    x = np.array(x)\n",
        "  return np.where(x >= 0, 1 / (1 + np.exp(-x)), np.exp(x) / (1 + np.exp(x)))\n",
        "\n",
        "def calculate_metric(y_true,\n",
        "                     predictions,\n",
        "                     regression = True):\n",
        "  \"\"\"Calculates the evaluation metric.\"\"\"\n",
        "  if regression:\n",
        "    return r2_score(y_true, predictions)\n",
        "  else:\n",
        "    return sk_metrics.roc_auc_score(y_true, sigmoid(predictions))"
      ],
      "metadata": {
        "id": "D4gxDX0LnDDV"
      },
      "execution_count": 21,
      "outputs": []
    },
    {
      "cell_type": "code",
      "execution_count": 22,
      "metadata": {
        "id": "D9Ufy_CSBLWj",
        "colab": {
          "base_uri": "https://localhost:8080/"
        },
        "outputId": "8e84c2ce-9e2a-46c6-a631-8219a8e3910b"
      },
      "outputs": [
        {
          "output_type": "stream",
          "name": "stdout",
          "text": [
            "0.9249984653313145\n"
          ]
        }
      ],
      "source": [
        "# Call function that calculates a specific evaluation metric\n",
        "test_metric = calculate_metric(y_test, predicted_stock_price, regression=True)\n",
        "\n",
        "# Print the calculated metric\n",
        "print(test_metric)"
      ]
    },
    {
      "cell_type": "code",
      "execution_count": 23,
      "metadata": {
        "id": "7Qcbj2H2Yuxz",
        "colab": {
          "base_uri": "https://localhost:8080/",
          "height": 360
        },
        "outputId": "39714208-a874-4384-8019-46c7aee731cc"
      },
      "outputs": [
        {
          "output_type": "display_data",
          "data": {
            "text/plain": [
              "<Figure size 720x360 with 1 Axes>"
            ],
            "image/png": "[encoded data removed]"
          },
          "metadata": {
            "needs_background": "light"
          }
        }
      ],
      "source": [
        "import matplotlib.pyplot as plt\n",
        "\n",
        "plt.figure(figsize=(10, 5))\n",
        "plt.grid(visible=True, linestyle='-.')\n",
        "plt.plot(y_test, color = 'red', label = 'Real Stock Price')\n",
        "plt.plot(predicted_stock_price, color = 'blue', label = 'Predicted Stock Price')\n",
        "plt.title('ΝΑΜ Prediction', fontsize=20)\n",
        "plt.xlabel('Time', fontsize=15)\n",
        "plt.ylabel('Stock Price', fontsize=15)\n",
        "plt.legend(fontsize=15)\n",
        "plt.ylim(bottom=min(y_test) - (max(y_test) - min(y_test))*0.1, top=max(y_test) + (max(y_test) - min(y_test))*0.1)\n",
        "plt.savefig(\"NAM.png\")\n",
        "\n",
        "plt.show()"
      ]
    },
    {
      "cell_type": "code",
      "source": [
        "import numpy as np\n",
        "from sklearn.metrics import r2_score\n",
        "\n",
        "y_pred = predicted_stock_price\n",
        "\n",
        "# Calculate the baseline performance\n",
        "baseline_r2 = r2_score(y_test, y_pred)\n",
        "\n",
        "# Initialize a list to store the feature importance scores\n",
        "permutation_scores = []\n",
        "\n",
        "# Iterate over each feature\n",
        "for feature in range(X_train.shape[1]):\n",
        "    # Shuffle the values of the current feature\n",
        "    X_train_shuffled = X_train.copy()\n",
        "    X_train_shuffled[:, feature] = np.random.permutation(X_train[:, feature])\n",
        "\n",
        "    # Re-fit the model and make predictions\n",
        "    nn_model.fit(X_train_shuffled, y_train)\n",
        "    y_pred_shuffled = nn_model.predict(X_test)\n",
        "\n",
        "    # Calculate the decrease in performance\n",
        "    r2 = r2_score(y_test, y_pred_shuffled)\n",
        "    permutation_score = baseline_r2 - r2\n",
        "    permutation_scores.append(permutation_score)\n",
        "\n",
        "# normalize the feature importance to sum to 1\n",
        "permutation_scores = np.array(permutation_scores)\n",
        "permutation_scores /= permutation_scores.sum()"
      ],
      "metadata": {
        "colab": {
          "base_uri": "https://localhost:8080/"
        },
        "id": "Bv29YVakGOxm",
        "outputId": "5a5a0efb-321c-4cd9-b094-6474f7ead9c5"
      },
      "execution_count": 24,
      "outputs": [
        {
          "output_type": "stream",
          "name": "stdout",
          "text": [
            "95/95 [==============================] - 1s 7ms/step - loss: 0.2365 - root_mean_squared_error: 0.4863\n",
            "24/24 [==============================] - 0s 6ms/step\n",
            "95/95 [==============================] - 1s 6ms/step - loss: 0.3543 - root_mean_squared_error: 0.5952\n",
            "24/24 [==============================] - 0s 2ms/step\n",
            "95/95 [==============================] - 1s 6ms/step - loss: 0.4076 - root_mean_squared_error: 0.6385\n",
            "24/24 [==============================] - 0s 2ms/step\n"
          ]
        }
      ]
    },
    {
      "cell_type": "code",
      "source": [
        "import matplotlib.pyplot as plt\n",
        "\n",
        "plt.bar(range(X_train.shape[1]), permutation_scores, color='#00BFFF', edgecolor='#00008B')\n",
        "plt.xticks(range(X_train.shape[1]), data.columns, rotation=45, fontsize=12)\n",
        "plt.title('Feature Importance NAM', fontsize=20)\n",
        "plt.ylabel('Feature Importance Score', fontsize=14)\n",
        "plt.ylim(0, max(permutation_scores)+0.1)\n",
        "plt.grid(visible=True, linestyle='--', color='#D3D3D3')\n",
        "plt.savefig('feature_importance NAM.png', bbox_inches='tight')\n",
        "\n",
        "plt.show()"
      ],
      "metadata": {
        "colab": {
          "base_uri": "https://localhost:8080/",
          "height": 315
        },
        "id": "QVoVVJBrG5Et",
        "outputId": "e63b8af4-7eac-42a6-e596-3602638ce4b3"
      },
      "execution_count": 30,
      "outputs": [
        {
          "output_type": "display_data",
          "data": {
            "text/plain": [
              "<Figure size 432x288 with 1 Axes>"
            ],
            "image/png": "[encoded data removed]"
          },
          "metadata": {
            "needs_background": "light"
          }
        }
      ]
    },
    {
      "cell_type": "code",
      "source": [
        "from sklearn.inspection import permutation_importance\n",
        "from sklearn.metrics import mean_squared_error\n",
        "\n",
        "# Make predictions on the test data\n",
        "y_pred = predicted_stock_price\n",
        "\n",
        "# Calculate the feature importance scores\n",
        "result = permutation_importance(nn_model, X_test, y_pred, scoring = \"neg_mean_squared_error\")\n",
        "\n",
        "# to get the feature importance\n",
        "feature_importance = result.importances_mean"
      ],
      "metadata": {
        "colab": {
          "base_uri": "https://localhost:8080/"
        },
        "id": "JQioQfc_IHAP",
        "outputId": "5d697e06-3ede-438e-8280-3bca8e2e2931"
      },
      "execution_count": 34,
      "outputs": [
        {
          "output_type": "stream",
          "name": "stdout",
          "text": [
            "24/24 [==============================] - 0s 2ms/step\n",
            "24/24 [==============================] - 0s 2ms/step\n",
            "24/24 [==============================] - 0s 2ms/step\n",
            "24/24 [==============================] - 0s 3ms/step\n",
            "24/24 [==============================] - 0s 2ms/step\n",
            "24/24 [==============================] - 0s 2ms/step\n",
            "24/24 [==============================] - 0s 3ms/step\n",
            "24/24 [==============================] - 0s 4ms/step\n",
            "24/24 [==============================] - 0s 3ms/step\n",
            "24/24 [==============================] - 0s 3ms/step\n",
            "24/24 [==============================] - 0s 2ms/step\n",
            "24/24 [==============================] - 0s 2ms/step\n",
            "24/24 [==============================] - 0s 3ms/step\n",
            "24/24 [==============================] - 0s 3ms/step\n",
            "24/24 [==============================] - 0s 2ms/step\n",
            "24/24 [==============================] - 0s 3ms/step\n"
          ]
        }
      ]
    },
    {
      "cell_type": "code",
      "source": [
        "import matplotlib.pyplot as plt\n",
        "\n",
        "\n",
        "plt.bar(range(len(feature_importance)), feature_importance, color='#00BFFF', edgecolor='#00008B')\n",
        "plt.xticks(range(len(feature_importance)), data.columns, rotation=45, fontsize=12)\n",
        "plt.title('Feature Importance Scores', fontsize=20)\n",
        "plt.ylabel('Feature Importance Score', fontsize=14)\n",
        "plt.ylim(0, max(feature_importance)+10)\n",
        "plt.grid(visible=True, linestyle='--', color='#D3D3D3')\n",
        "\n",
        "plt.show()"
      ],
      "metadata": {
        "colab": {
          "base_uri": "https://localhost:8080/",
          "height": 315
        },
        "id": "gMYe6ASiIeHv",
        "outputId": "137be471-fdca-4a67-c57d-9ed7eede45b6"
      },
      "execution_count": 35,
      "outputs": [
        {
          "output_type": "display_data",
          "data": {
            "text/plain": [
              "<Figure size 432x288 with 1 Axes>"
            ],
            "image/png": "[encoded data removed]"
          },
          "metadata": {
            "needs_background": "light"
          }
        }
      ]
    },
    {
      "cell_type": "code",
      "source": [
        "!pip install shap"
      ],
      "metadata": {
        "colab": {
          "base_uri": "https://localhost:8080/"
        },
        "id": "_gNgLNotSPvC",
        "outputId": "b19d471a-e91f-4b2d-c584-0b4ffb4d8029"
      },
      "execution_count": 32,
      "outputs": [
        {
          "output_type": "stream",
          "name": "stdout",
          "text": [
            "Looking in indexes: https://pypi.org/simple, https://us-python.pkg.dev/colab-wheels/public/simple/\n",
            "Requirement already satisfied: shap in /usr/local/lib/python3.8/dist-packages (0.41.0)\n",
            "Requirement already satisfied: scikit-learn in /usr/local/lib/python3.8/dist-packages (from shap) (1.0.2)\n",
            "Requirement already satisfied: cloudpickle in /usr/local/lib/python3.8/dist-packages (from shap) (2.2.1)\n",
            "Requirement already satisfied: tqdm>4.25.0 in /usr/local/lib/python3.8/dist-packages (from shap) (4.64.1)\n",
            "Requirement already satisfied: slicer==0.0.7 in /usr/local/lib/python3.8/dist-packages (from shap) (0.0.7)\n",
            "Requirement already satisfied: numpy in /usr/local/lib/python3.8/dist-packages (from shap) (1.21.6)\n",
            "Requirement already satisfied: packaging>20.9 in /usr/local/lib/python3.8/dist-packages (from shap) (23.0)\n",
            "Requirement already satisfied: pandas in /usr/local/lib/python3.8/dist-packages (from shap) (1.3.5)\n",
            "Requirement already satisfied: numba in /usr/local/lib/python3.8/dist-packages (from shap) (0.56.4)\n",
            "Requirement already satisfied: scipy in /usr/local/lib/python3.8/dist-packages (from shap) (1.7.3)\n",
            "Requirement already satisfied: llvmlite<0.40,>=0.39.0dev0 in /usr/local/lib/python3.8/dist-packages (from numba->shap) (0.39.1)\n",
            "Requirement already satisfied: setuptools in /usr/local/lib/python3.8/dist-packages (from numba->shap) (57.4.0)\n",
            "Requirement already satisfied: importlib-metadata in /usr/local/lib/python3.8/dist-packages (from numba->shap) (6.0.0)\n",
            "Requirement already satisfied: python-dateutil>=2.7.3 in /usr/local/lib/python3.8/dist-packages (from pandas->shap) (2.8.2)\n",
            "Requirement already satisfied: pytz>=2017.3 in /usr/local/lib/python3.8/dist-packages (from pandas->shap) (2022.7.1)\n",
            "Requirement already satisfied: threadpoolctl>=2.0.0 in /usr/local/lib/python3.8/dist-packages (from scikit-learn->shap) (3.1.0)\n",
            "Requirement already satisfied: joblib>=0.11 in /usr/local/lib/python3.8/dist-packages (from scikit-learn->shap) (1.2.0)\n",
            "Requirement already satisfied: six>=1.5 in /usr/local/lib/python3.8/dist-packages (from python-dateutil>=2.7.3->pandas->shap) (1.15.0)\n",
            "Requirement already satisfied: zipp>=0.5 in /usr/local/lib/python3.8/dist-packages (from importlib-metadata->numba->shap) (3.12.1)\n"
          ]
        }
      ]
    },
    {
      "cell_type": "code",
      "source": [
        "import shap\n",
        "import matplotlib.pyplot as plt\n",
        "\n",
        "# Create an explainer object to calculate the SHAP values\n",
        "explainer = shap.Explainer(nn_model, X_test)\n",
        "shap_values = explainer(X_test)\n",
        "\n",
        "# Set the plot style to a more visually appealing style\n",
        "plt.style.use('seaborn-darkgrid')\n",
        "\n",
        "# Set the plot title\n",
        "plt.title('SHAP Feature Importance Plot NAM', fontsize=20)\n",
        "\n",
        "# Create the bar plot of the feature importances\n",
        "shap.summary_plot(shap_values, X_test, feature_names=['CL=F','^GSPC', '^TNX'], plot_type='bar')"
      ],
      "metadata": {
        "colab": {
          "base_uri": "https://localhost:8080/",
          "height": 204
        },
        "id": "2uaziCKkfWwX",
        "outputId": "dcfadd42-6eb9-41c6-e320-35cb0cb6dd58"
      },
      "execution_count": 60,
      "outputs": [
        {
          "output_type": "display_data",
          "data": {
            "text/plain": [
              "<Figure size 576x194.4 with 1 Axes>"
            ],
            "image/png": "[encoded data removed]"
          },
          "metadata": {}
        }
      ]
    },
    {
      "cell_type": "code",
      "source": [
        "# # Save the figure to an HTML file\n",
        "# shap.save_html(\"SHAP Feature Importance Plot NAM.png\", plot = shap.force_plot(shap_values, X_test, feature_names=['CL=F','^GSPC', '^TNX']))"
      ],
      "metadata": {
        "id": "R1A0t5lijWHH"
      },
      "execution_count": 59,
      "outputs": []
    }
  ],
  "metadata": {
    "accelerator": "GPU",
    "colab": {
      "provenance": []
    },
    "gpuClass": "standard",
    "kernelspec": {
      "display_name": "Python 3.8.13",
      "language": "python",
      "name": "python3"
    },
    "language_info": {
      "codemirror_mode": {
        "name": "ipython",
        "version": 3
      },
      "file_extension": ".py",
      "mimetype": "text/x-python",
      "name": "python",
      "nbconvert_exporter": "python",
      "pygments_lexer": "ipython3",
      "version": "3.8.13"
    },
    "vscode": {
      "interpreter": {
        "hash": "4976e0179d97dd6d59b1329a76e601e17b789c2571b41c8b57f5fd69821c0dd3"
      }
    }
  },
  "nbformat": 4,
  "nbformat_minor": 0
}